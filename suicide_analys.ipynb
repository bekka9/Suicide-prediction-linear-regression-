{
  "cells": [
    {
      "cell_type": "markdown",
      "metadata": {
        "id": "view-in-github",
        "colab_type": "text"
      },
      "source": [
        "<a href=\"https://colab.research.google.com/github/bekka9/Suicide-prediction-linear-regression-/blob/main/suicide_analys.ipynb\" target=\"_parent\"><img src=\"https://colab.research.google.com/assets/colab-badge.svg\" alt=\"Open In Colab\"/></a>"
      ]
    },
    {
      "cell_type": "code",
      "execution_count": null,
      "metadata": {
        "id": "tnZfvuq51mPp"
      },
      "outputs": [],
      "source": [
        "\n",
        "import numpy as np\n",
        "import pandas as pd\n",
        "import seaborn as sns\n",
        "import scipy.stats as stats\n",
        "from sklearn.linear_model import LinearRegression\n",
        "import matplotlib\n",
        "from matplotlib import pyplot as plt\n",
        "\n",
        "from typing import Tuple\n",
        "from matplotlib import pyplot as plt\n",
        "from sklearn.metrics import roc_auc_score\n",
        "from plotly.subplots import make_subplots\n",
        "import plotly.graph_objects as go\n",
        "import plotly.express as px\n",
        "import scipy.linalg as sla\n",
        "import matplotlib.pyplot as plt\n",
        "import random\n",
        "import statistics as stat\n",
        "import statsmodels.stats.api as sms\n",
        "from statsmodels.compat import lzip\n",
        "#csv_file_path = '/content/drive/My Drive/data.csv'\n",
        "#df = pd.read_csv(csv_file_path)\n",
        "p_level = 0.95\n",
        "a_level = 1 - p_level"
      ]
    },
    {
      "cell_type": "code",
      "execution_count": null,
      "metadata": {
        "id": "4b5MHBcl19_C"
      },
      "outputs": [],
      "source": [
        "num_suicide = pd.read_excel('D:/spbu/НИР/data/num_suicide.xlsx')\n",
        "alco = pd.read_excel('D:/spbu/НИР/data/алко20192022.xlsx')\n",
        "#HIV = pd.read_excel('/content/drive/MyDrive/spbu/NIR/data/HIV.xlsx')\n",
        "cash_income = pd.read_excel('D:/spbu/НИР/data/cash_income(mean).xlsx')\n",
        "healty_lifestyle = pd.read_excel('D:/spbu/НИР/data/healty_lifestyle.xlsx')\n",
        "incomes_below_the_poverty_line = pd.read_excel('D:/spbu/НИР/data/incomes_below_the_poverty_line.xlsx')\n",
        "mental_disorder = pd.read_excel('D:/spbu/НИР/data/mental_disorder.xlsx')\n",
        "num_crimes = pd.read_excel('D:/spbu/НИР/data/num_of_criminals.xlsx')\n",
        "poverty_level = pd.read_excel('D:/spbu/НИР/data/poverty_level.xlsx')\n",
        "rape_num = pd.read_excel('D:/spbu/НИР/data/rape.xlsx') #per10000\n",
        "employee_ratio = pd.read_excel('D:/spbu/НИР/data/ratio_of_the_employees_to_the_population_in_working_age.xlsx')"
      ]
    },
    {
      "cell_type": "code",
      "execution_count": null,
      "metadata": {
        "id": "s349sZLdiWsA",
        "outputId": "23650da4-8631-4ee7-984a-500889e87f18"
      },
      "outputs": [
        {
          "data": {
            "text/html": [
              "<div>\n",
              "<style scoped>\n",
              "    .dataframe tbody tr th:only-of-type {\n",
              "        vertical-align: middle;\n",
              "    }\n",
              "\n",
              "    .dataframe tbody tr th {\n",
              "        vertical-align: top;\n",
              "    }\n",
              "\n",
              "    .dataframe thead th {\n",
              "        text-align: right;\n",
              "    }\n",
              "</style>\n",
              "<table border=\"1\" class=\"dataframe\">\n",
              "  <thead>\n",
              "    <tr style=\"text-align: right;\">\n",
              "      <th></th>\n",
              "      <th>округ</th>\n",
              "      <th>2018</th>\n",
              "      <th>2019</th>\n",
              "      <th>2020</th>\n",
              "      <th>2021</th>\n",
              "      <th>2022</th>\n",
              "    </tr>\n",
              "  </thead>\n",
              "  <tbody>\n",
              "    <tr>\n",
              "      <th>0</th>\n",
              "      <td>Российская Федерация</td>\n",
              "      <td>12.4</td>\n",
              "      <td>11.7</td>\n",
              "      <td>11.3</td>\n",
              "      <td>10.71</td>\n",
              "      <td>9.24</td>\n",
              "    </tr>\n",
              "    <tr>\n",
              "      <th>1</th>\n",
              "      <td>Белгородская область</td>\n",
              "      <td>12.1</td>\n",
              "      <td>11.0</td>\n",
              "      <td>9.4</td>\n",
              "      <td>9.96</td>\n",
              "      <td>9.51</td>\n",
              "    </tr>\n",
              "    <tr>\n",
              "      <th>2</th>\n",
              "      <td>Брянская область</td>\n",
              "      <td>11.9</td>\n",
              "      <td>11.3</td>\n",
              "      <td>15.5</td>\n",
              "      <td>14.12</td>\n",
              "      <td>11.31</td>\n",
              "    </tr>\n",
              "    <tr>\n",
              "      <th>3</th>\n",
              "      <td>Владимирская область</td>\n",
              "      <td>14.4</td>\n",
              "      <td>14.3</td>\n",
              "      <td>13.7</td>\n",
              "      <td>14.93</td>\n",
              "      <td>13.04</td>\n",
              "    </tr>\n",
              "    <tr>\n",
              "      <th>4</th>\n",
              "      <td>Воронежская область</td>\n",
              "      <td>13.7</td>\n",
              "      <td>11.1</td>\n",
              "      <td>12.2</td>\n",
              "      <td>10.67</td>\n",
              "      <td>8.59</td>\n",
              "    </tr>\n",
              "    <tr>\n",
              "      <th>...</th>\n",
              "      <td>...</td>\n",
              "      <td>...</td>\n",
              "      <td>...</td>\n",
              "      <td>...</td>\n",
              "      <td>...</td>\n",
              "      <td>...</td>\n",
              "    </tr>\n",
              "    <tr>\n",
              "      <th>80</th>\n",
              "      <td>Амурская область</td>\n",
              "      <td>33.0</td>\n",
              "      <td>30.2</td>\n",
              "      <td>29.0</td>\n",
              "      <td>27.54</td>\n",
              "      <td>28.69</td>\n",
              "    </tr>\n",
              "    <tr>\n",
              "      <th>81</th>\n",
              "      <td>Магаданская область</td>\n",
              "      <td>4.9</td>\n",
              "      <td>16.3</td>\n",
              "      <td>12.2</td>\n",
              "      <td>6.50</td>\n",
              "      <td>11.84</td>\n",
              "    </tr>\n",
              "    <tr>\n",
              "      <th>82</th>\n",
              "      <td>Сахалинская область</td>\n",
              "      <td>2.9</td>\n",
              "      <td>0.4</td>\n",
              "      <td>0.4</td>\n",
              "      <td>0.21</td>\n",
              "      <td>0.65</td>\n",
              "    </tr>\n",
              "    <tr>\n",
              "      <th>83</th>\n",
              "      <td>Еврейская автономная область</td>\n",
              "      <td>32.9</td>\n",
              "      <td>32.7</td>\n",
              "      <td>21.0</td>\n",
              "      <td>28.36</td>\n",
              "      <td>31.65</td>\n",
              "    </tr>\n",
              "    <tr>\n",
              "      <th>84</th>\n",
              "      <td>Чукотский автономный округ</td>\n",
              "      <td>44.4</td>\n",
              "      <td>18.0</td>\n",
              "      <td>24.0</td>\n",
              "      <td>30.13</td>\n",
              "      <td>25.07</td>\n",
              "    </tr>\n",
              "  </tbody>\n",
              "</table>\n",
              "<p>85 rows × 6 columns</p>\n",
              "</div>"
            ],
            "text/plain": [
              "                           округ  2018  2019  2020   2021   2022\n",
              "0           Российская Федерация  12.4  11.7  11.3  10.71   9.24\n",
              "1           Белгородская область  12.1  11.0   9.4   9.96   9.51\n",
              "2               Брянская область  11.9  11.3  15.5  14.12  11.31\n",
              "3           Владимирская область  14.4  14.3  13.7  14.93  13.04\n",
              "4            Воронежская область  13.7  11.1  12.2  10.67   8.59\n",
              "..                           ...   ...   ...   ...    ...    ...\n",
              "80              Амурская область  33.0  30.2  29.0  27.54  28.69\n",
              "81           Магаданская область   4.9  16.3  12.2   6.50  11.84\n",
              "82           Сахалинская область   2.9   0.4   0.4   0.21   0.65\n",
              "83  Еврейская автономная область  32.9  32.7  21.0  28.36  31.65\n",
              "84    Чукотский автономный округ  44.4  18.0  24.0  30.13  25.07\n",
              "\n",
              "[85 rows x 6 columns]"
            ]
          },
          "execution_count": 647,
          "metadata": {},
          "output_type": "execute_result"
        }
      ],
      "source": [
        "num_suicide"
      ]
    },
    {
      "cell_type": "code",
      "execution_count": null,
      "metadata": {
        "colab": {
          "base_uri": "https://localhost:8080/",
          "height": 423
        },
        "id": "oiUul1Lz7Ny-",
        "outputId": "a6a44e42-7625-4ac5-9360-d61263f302ac"
      },
      "outputs": [
        {
          "data": {
            "text/plain": [
              "\"\\nnum_suicide['2018'] = num_suicide['2018']*10000\\nnum_suicide['2019'] = num_suicide['2019']*10000\\nnum_suicide['2020'] = num_suicide['2020']*10000\\nnum_suicide['2021'] = num_suicide['2021']*10000\\nnum_suicide['2022'] = num_suicide['2022']*10000\\nnum_suicide\\n\""
            ]
          },
          "execution_count": 648,
          "metadata": {},
          "output_type": "execute_result"
        }
      ],
      "source": [
        "'''\n",
        "num_suicide['2018'] = num_suicide['2018']*10000\n",
        "num_suicide['2019'] = num_suicide['2019']*10000\n",
        "num_suicide['2020'] = num_suicide['2020']*10000\n",
        "num_suicide['2021'] = num_suicide['2021']*10000\n",
        "num_suicide['2022'] = num_suicide['2022']*10000\n",
        "num_suicide\n",
        "'''"
      ]
    },
    {
      "cell_type": "code",
      "execution_count": null,
      "metadata": {
        "id": "OVqBfYePUta6"
      },
      "outputs": [],
      "source": [
        "# Числовые признаки\n",
        "num_cols = [\n",
        "        'alco',\n",
        "        'cash_income',\n",
        "        'mental_disorder',\n",
        "        'num_crimes',\n",
        "        'poverty_level',\n",
        "        'rape_num',\n",
        "        'employee_ratio'\n",
        "]\n",
        "# Категориальные признаки\n",
        "cat_cols = [\n",
        "    'district'\n",
        "]\n",
        "\n",
        "feature_cols = num_cols + cat_cols\n",
        "target_col = 'num_suicide'"
      ]
    },
    {
      "cell_type": "code",
      "execution_count": null,
      "metadata": {
        "id": "GpHsFFCZiWsE",
        "outputId": "b969dc57-e9b6-4537-d06d-2ba23cdd27e5"
      },
      "outputs": [
        {
          "data": {
            "text/html": [
              "<div>\n",
              "<style scoped>\n",
              "    .dataframe tbody tr th:only-of-type {\n",
              "        vertical-align: middle;\n",
              "    }\n",
              "\n",
              "    .dataframe tbody tr th {\n",
              "        vertical-align: top;\n",
              "    }\n",
              "\n",
              "    .dataframe thead th {\n",
              "        text-align: right;\n",
              "    }\n",
              "</style>\n",
              "<table border=\"1\" class=\"dataframe\">\n",
              "  <thead>\n",
              "    <tr style=\"text-align: right;\">\n",
              "      <th></th>\n",
              "      <th>округ</th>\n",
              "      <th>2018</th>\n",
              "      <th>2019</th>\n",
              "      <th>2020</th>\n",
              "      <th>2021</th>\n",
              "      <th>2022</th>\n",
              "    </tr>\n",
              "  </thead>\n",
              "  <tbody>\n",
              "    <tr>\n",
              "      <th>0</th>\n",
              "      <td>Российская Федерация</td>\n",
              "      <td>12.4</td>\n",
              "      <td>11.7</td>\n",
              "      <td>11.3</td>\n",
              "      <td>10.71</td>\n",
              "      <td>9.24</td>\n",
              "    </tr>\n",
              "    <tr>\n",
              "      <th>1</th>\n",
              "      <td>Белгородская область</td>\n",
              "      <td>12.1</td>\n",
              "      <td>11.0</td>\n",
              "      <td>9.4</td>\n",
              "      <td>9.96</td>\n",
              "      <td>9.51</td>\n",
              "    </tr>\n",
              "    <tr>\n",
              "      <th>2</th>\n",
              "      <td>Брянская область</td>\n",
              "      <td>11.9</td>\n",
              "      <td>11.3</td>\n",
              "      <td>15.5</td>\n",
              "      <td>14.12</td>\n",
              "      <td>11.31</td>\n",
              "    </tr>\n",
              "    <tr>\n",
              "      <th>3</th>\n",
              "      <td>Владимирская область</td>\n",
              "      <td>14.4</td>\n",
              "      <td>14.3</td>\n",
              "      <td>13.7</td>\n",
              "      <td>14.93</td>\n",
              "      <td>13.04</td>\n",
              "    </tr>\n",
              "    <tr>\n",
              "      <th>4</th>\n",
              "      <td>Воронежская область</td>\n",
              "      <td>13.7</td>\n",
              "      <td>11.1</td>\n",
              "      <td>12.2</td>\n",
              "      <td>10.67</td>\n",
              "      <td>8.59</td>\n",
              "    </tr>\n",
              "    <tr>\n",
              "      <th>...</th>\n",
              "      <td>...</td>\n",
              "      <td>...</td>\n",
              "      <td>...</td>\n",
              "      <td>...</td>\n",
              "      <td>...</td>\n",
              "      <td>...</td>\n",
              "    </tr>\n",
              "    <tr>\n",
              "      <th>80</th>\n",
              "      <td>Амурская область</td>\n",
              "      <td>33.0</td>\n",
              "      <td>30.2</td>\n",
              "      <td>29.0</td>\n",
              "      <td>27.54</td>\n",
              "      <td>28.69</td>\n",
              "    </tr>\n",
              "    <tr>\n",
              "      <th>81</th>\n",
              "      <td>Магаданская область</td>\n",
              "      <td>4.9</td>\n",
              "      <td>16.3</td>\n",
              "      <td>12.2</td>\n",
              "      <td>6.50</td>\n",
              "      <td>11.84</td>\n",
              "    </tr>\n",
              "    <tr>\n",
              "      <th>82</th>\n",
              "      <td>Сахалинская область</td>\n",
              "      <td>2.9</td>\n",
              "      <td>0.4</td>\n",
              "      <td>0.4</td>\n",
              "      <td>0.21</td>\n",
              "      <td>0.65</td>\n",
              "    </tr>\n",
              "    <tr>\n",
              "      <th>83</th>\n",
              "      <td>Еврейская автономная область</td>\n",
              "      <td>32.9</td>\n",
              "      <td>32.7</td>\n",
              "      <td>21.0</td>\n",
              "      <td>28.36</td>\n",
              "      <td>31.65</td>\n",
              "    </tr>\n",
              "    <tr>\n",
              "      <th>84</th>\n",
              "      <td>Чукотский автономный округ</td>\n",
              "      <td>44.4</td>\n",
              "      <td>18.0</td>\n",
              "      <td>24.0</td>\n",
              "      <td>30.13</td>\n",
              "      <td>25.07</td>\n",
              "    </tr>\n",
              "  </tbody>\n",
              "</table>\n",
              "<p>85 rows × 6 columns</p>\n",
              "</div>"
            ],
            "text/plain": [
              "                           округ  2018  2019  2020   2021   2022\n",
              "0           Российская Федерация  12.4  11.7  11.3  10.71   9.24\n",
              "1           Белгородская область  12.1  11.0   9.4   9.96   9.51\n",
              "2               Брянская область  11.9  11.3  15.5  14.12  11.31\n",
              "3           Владимирская область  14.4  14.3  13.7  14.93  13.04\n",
              "4            Воронежская область  13.7  11.1  12.2  10.67   8.59\n",
              "..                           ...   ...   ...   ...    ...    ...\n",
              "80              Амурская область  33.0  30.2  29.0  27.54  28.69\n",
              "81           Магаданская область   4.9  16.3  12.2   6.50  11.84\n",
              "82           Сахалинская область   2.9   0.4   0.4   0.21   0.65\n",
              "83  Еврейская автономная область  32.9  32.7  21.0  28.36  31.65\n",
              "84    Чукотский автономный округ  44.4  18.0  24.0  30.13  25.07\n",
              "\n",
              "[85 rows x 6 columns]"
            ]
          },
          "execution_count": 650,
          "metadata": {},
          "output_type": "execute_result"
        }
      ],
      "source": [
        "num_suicide"
      ]
    },
    {
      "cell_type": "code",
      "execution_count": null,
      "metadata": {
        "id": "cFsrVnUOiWsE",
        "outputId": "c6e9e387-6101-4ef6-858e-3a26ea363f65"
      },
      "outputs": [
        {
          "data": {
            "text/plain": [
              "['округ', '2018', '2019', '2020', '2021', '2022']"
            ]
          },
          "execution_count": 651,
          "metadata": {},
          "output_type": "execute_result"
        }
      ],
      "source": [
        "list(incomes_below_the_poverty_line)"
      ]
    },
    {
      "cell_type": "code",
      "execution_count": null,
      "metadata": {
        "id": "iHl8FQX_MwiR"
      },
      "outputs": [],
      "source": [
        "year_ = '2019'\n",
        "df2019 = pd.concat([\n",
        "    num_suicide[['округ']],\n",
        "    num_suicide[[year_]],\n",
        "    alco[[year_]],\n",
        "    cash_income[[year_]],\n",
        "    incomes_below_the_poverty_line[[year_]],\n",
        "    mental_disorder[[year_]],\n",
        "    num_crimes[[year_]],\n",
        "    poverty_level[[year_]],\n",
        "    rape_num[[year_]],\n",
        "    employee_ratio[[year_]]\n",
        "], axis=1)\n",
        "df2019.columns = ['district',\n",
        "        'num_suicide',\n",
        "        'alco',\n",
        "        'cash_income',\n",
        "        'incomes_below_the_poverty_line',\n",
        "        'mental_disorder',\n",
        "        'num_crimes',\n",
        "        'poverty_level',\n",
        "        'rape_num',\n",
        "        'employee_ratio']\n",
        "data = df2019"
      ]
    },
    {
      "cell_type": "code",
      "execution_count": null,
      "metadata": {
        "colab": {
          "base_uri": "https://localhost:8080/",
          "height": 1000
        },
        "id": "Sj3LFoPFf0R2",
        "outputId": "0c5db7f2-844c-4eab-a6e2-a5b42c6e2e35"
      },
      "outputs": [
        {
          "data": {
            "image/png": "[encoded data removed]",
            "text/plain": [
              "<Figure size 640x480 with 1 Axes>"
            ]
          },
          "metadata": {},
          "output_type": "display_data"
        },
        {
          "data": {
            "image/png": "[encoded data removed]",
            "text/plain": [
              "<Figure size 640x480 with 1 Axes>"
            ]
          },
          "metadata": {},
          "output_type": "display_data"
        }
      ],
      "source": [
        "'''Визуализация разброса значений\n",
        "        на гистограмме'''\n",
        "for i in range(len(num_cols)):\n",
        "#  fig = px.histogram(data, x=num_cols[i], histfunc='count')\n",
        "#  fig.show()\n",
        "  df2019[num_cols[i]].hist(bins=20)\n",
        "\n",
        "  plt.xlabel(num_cols[i])\n",
        "  plt.ylabel('Частота')\n",
        "  plt.show()"
      ]
    },
    {
      "cell_type": "code",
      "execution_count": null,
      "metadata": {
        "colab": {
          "base_uri": "https://localhost:8080/"
        },
        "id": "WodTGJcMfctq",
        "outputId": "035c69f4-6f29-4614-f86e-4340b322776e"
      },
      "outputs": [
        {
          "data": {
            "text/plain": [
              "9.123644847909572"
            ]
          },
          "execution_count": 741,
          "metadata": {},
          "output_type": "execute_result"
        }
      ],
      "source": [
        "data['num_crimes'].skew()"
      ]
    },
    {
      "cell_type": "markdown",
      "metadata": {
        "id": "AMQHNDS8gyzQ"
      },
      "source": [
        "правая часть сильно удлиненна (правосторонняя асимметрия)"
      ]
    },
    {
      "cell_type": "code",
      "execution_count": null,
      "metadata": {
        "colab": {
          "base_uri": "https://localhost:8080/",
          "height": 447
        },
        "id": "pQqVnH29gQay",
        "outputId": "f986da97-21ad-42bc-cc7c-31bbc9d654f7"
      },
      "outputs": [
        {
          "name": "stdout",
          "output_type": "stream",
          "text": [
            "0.6691514139126543\n"
          ]
        },
        {
          "data": {
            "image/png": "[encoded data removed]",
            "text/plain": [
              "<Figure size 640x480 with 1 Axes>"
            ]
          },
          "metadata": {},
          "output_type": "display_data"
        }
      ],
      "source": [
        "data['num_crimes'].apply(np.log).hist(bins=20)\n",
        "data['num_crimes'] = data['num_crimes'].apply(np.log)\n",
        "print(data['num_crimes'].skew())\n",
        "plt.xlabel('num_crimes')\n",
        "plt.ylabel('Частота')\n",
        "plt.show()"
      ]
    },
    {
      "cell_type": "code",
      "execution_count": null,
      "metadata": {
        "colab": {
          "base_uri": "https://localhost:8080/"
        },
        "id": "pEnoud_ZlgtL",
        "outputId": "5e6d5329-e9c4-44c6-e711-88dad1d59bc3"
      },
      "outputs": [
        {
          "data": {
            "text/plain": [
              "2.290196791926173"
            ]
          },
          "execution_count": 743,
          "metadata": {},
          "output_type": "execute_result"
        }
      ],
      "source": [
        "data['cash_income'].skew()"
      ]
    },
    {
      "cell_type": "markdown",
      "metadata": {
        "id": "TPGOte4alnBE"
      },
      "source": [
        "правосторонняя асимметрия"
      ]
    },
    {
      "cell_type": "code",
      "execution_count": null,
      "metadata": {
        "colab": {
          "base_uri": "https://localhost:8080/",
          "height": 447
        },
        "id": "7K23PtVzlpDh",
        "outputId": "29dfbb05-8a58-46bf-d60a-ff0478c39051"
      },
      "outputs": [
        {
          "name": "stdout",
          "output_type": "stream",
          "text": [
            "1.2772666361187355\n"
          ]
        },
        {
          "data": {
            "image/png": "[encoded data removed]",
            "text/plain": [
              "<Figure size 640x480 with 1 Axes>"
            ]
          },
          "metadata": {},
          "output_type": "display_data"
        }
      ],
      "source": [
        "data['cash_income'] = data['cash_income'].apply(np.log)\n",
        "data['cash_income'].hist(bins=20)\n",
        "print(data['cash_income'].skew())\n",
        "plt.xlabel('cash_income')\n",
        "plt.ylabel('Частота')\n",
        "plt.show()"
      ]
    },
    {
      "cell_type": "code",
      "execution_count": null,
      "metadata": {
        "colab": {
          "base_uri": "https://localhost:8080/"
        },
        "id": "rzvQe4yemPbn",
        "outputId": "b91700f9-81ec-46bc-eda2-0750a4c67ccc"
      },
      "outputs": [
        {
          "data": {
            "text/plain": [
              "1.214506210843119"
            ]
          },
          "execution_count": 745,
          "metadata": {},
          "output_type": "execute_result"
        }
      ],
      "source": [
        "data['poverty_level'].skew()"
      ]
    },
    {
      "cell_type": "code",
      "execution_count": null,
      "metadata": {
        "colab": {
          "base_uri": "https://localhost:8080/",
          "height": 447
        },
        "id": "Uky6s0xHmN3I",
        "outputId": "8b405809-6ef6-4dcd-8ad1-36b10b8bb787"
      },
      "outputs": [
        {
          "name": "stdout",
          "output_type": "stream",
          "text": [
            "-0.030526030981261176\n"
          ]
        },
        {
          "data": {
            "image/png": "[encoded data removed]",
            "text/plain": [
              "<Figure size 640x480 with 1 Axes>"
            ]
          },
          "metadata": {},
          "output_type": "display_data"
        }
      ],
      "source": [
        "data['poverty_level'] = data['poverty_level'].apply(np.log)\n",
        "data['poverty_level'].hist(bins=20)\n",
        "print(data['poverty_level'].skew())\n",
        "plt.xlabel('poverty_level')\n",
        "plt.ylabel('Частота')\n",
        "plt.show()"
      ]
    },
    {
      "cell_type": "code",
      "execution_count": null,
      "metadata": {
        "colab": {
          "base_uri": "https://localhost:8080/",
          "height": 447
        },
        "id": "8P-oDHb9TzQN",
        "outputId": "e143686e-c5d8-4deb-d3eb-3dbe469ebef0"
      },
      "outputs": [
        {
          "name": "stdout",
          "output_type": "stream",
          "text": [
            "-0.03052603098126121\n"
          ]
        },
        {
          "data": {
            "image/png": "[encoded data removed]",
            "text/plain": [
              "<Figure size 640x480 with 1 Axes>"
            ]
          },
          "metadata": {},
          "output_type": "display_data"
        }
      ],
      "source": [
        "data['incomes_below_the_poverty_line'] = data['incomes_below_the_poverty_line'].apply(np.log)\n",
        "data['incomes_below_the_poverty_line'].hist(bins=20)\n",
        "print(data['incomes_below_the_poverty_line'].skew())\n",
        "plt.xlabel('incomes_below_the_poverty_line')\n",
        "plt.ylabel('Частота')\n",
        "plt.show()"
      ]
    },
    {
      "cell_type": "code",
      "execution_count": null,
      "metadata": {
        "colab": {
          "base_uri": "https://localhost:8080/"
        },
        "id": "DKbEmFWUmj9Y",
        "outputId": "b7a955bf-efdc-4478-c5fb-c987f671dc97"
      },
      "outputs": [
        {
          "data": {
            "text/plain": [
              "1.0931855403799084"
            ]
          },
          "execution_count": 748,
          "metadata": {},
          "output_type": "execute_result"
        }
      ],
      "source": [
        "data['employee_ratio'].skew()"
      ]
    },
    {
      "cell_type": "code",
      "execution_count": null,
      "metadata": {
        "colab": {
          "base_uri": "https://localhost:8080/",
          "height": 447
        },
        "id": "RT8BKDPumebw",
        "outputId": "b0daa6e6-35fd-4aff-c519-c365da8a794e"
      },
      "outputs": [
        {
          "name": "stdout",
          "output_type": "stream",
          "text": [
            "0.3327050995879267\n"
          ]
        },
        {
          "data": {
            "image/png": "[encoded data removed]",
            "text/plain": [
              "<Figure size 640x480 with 1 Axes>"
            ]
          },
          "metadata": {},
          "output_type": "display_data"
        }
      ],
      "source": [
        "data['employee_ratio'].apply(np.log).hist(bins=20)\n",
        "data['employee_ratio'] = data['employee_ratio'].apply(np.log)\n",
        "print(data['employee_ratio'].skew())\n",
        "plt.xlabel('employee_ratio')\n",
        "plt.ylabel('Частота')\n",
        "plt.show()"
      ]
    },
    {
      "cell_type": "code",
      "execution_count": null,
      "metadata": {
        "colab": {
          "base_uri": "https://localhost:8080/"
        },
        "id": "xObwgRWpmubx",
        "outputId": "f2a0d716-bb2f-468a-89a9-48228de45d71"
      },
      "outputs": [
        {
          "data": {
            "text/plain": [
              "9.05074953389023"
            ]
          },
          "execution_count": 750,
          "metadata": {},
          "output_type": "execute_result"
        }
      ],
      "source": [
        "data['rape_num'].skew()"
      ]
    },
    {
      "cell_type": "code",
      "execution_count": null,
      "metadata": {
        "colab": {
          "base_uri": "https://localhost:8080/"
        },
        "id": "LdAhfqsnnHl2",
        "outputId": "39b4111b-39d8-4a99-e68f-81b46b0e7d83"
      },
      "outputs": [
        {
          "name": "stdout",
          "output_type": "stream",
          "text": [
            "9.05074953389023\n"
          ]
        }
      ],
      "source": [
        "#data['rape_num'].apply(np.log).hist(bins=1000)\n",
        "print(data['rape_num'].skew())"
      ]
    },
    {
      "cell_type": "code",
      "execution_count": null,
      "metadata": {
        "colab": {
          "base_uri": "https://localhost:8080/"
        },
        "id": "1EeFWhCzm6f0",
        "outputId": "d2c2d2bb-3e10-4dd3-d0af-adbea55bbd57"
      },
      "outputs": [
        {
          "data": {
            "text/plain": [
              "9.088030199503484"
            ]
          },
          "execution_count": 752,
          "metadata": {},
          "output_type": "execute_result"
        }
      ],
      "source": [
        "data['mental_disorder'].skew()"
      ]
    },
    {
      "cell_type": "code",
      "execution_count": null,
      "metadata": {
        "colab": {
          "base_uri": "https://localhost:8080/",
          "height": 447
        },
        "id": "pwCoEdeGnjFc",
        "outputId": "345d8af8-f538-4266-d312-9f616e71595b"
      },
      "outputs": [
        {
          "name": "stdout",
          "output_type": "stream",
          "text": [
            "0.4731532100635249\n"
          ]
        },
        {
          "data": {
            "image/png": "[encoded data removed]",
            "text/plain": [
              "<Figure size 640x480 with 1 Axes>"
            ]
          },
          "metadata": {},
          "output_type": "display_data"
        }
      ],
      "source": [
        "data['mental_disorder'] = data['mental_disorder'].apply(np.log)\n",
        "data['mental_disorder'].hist(bins=20)\n",
        "print(data['mental_disorder'].skew())\n",
        "plt.xlabel('mental_disorder')\n",
        "plt.ylabel('Частота')\n",
        "plt.show()"
      ]
    },
    {
      "cell_type": "code",
      "execution_count": null,
      "metadata": {
        "colab": {
          "base_uri": "https://localhost:8080/"
        },
        "id": "SzJW-rJVpYz9",
        "outputId": "e0f36499-418d-413c-c7ea-246ab3427382"
      },
      "outputs": [
        {
          "data": {
            "text/plain": [
              "-0.41240067380840595"
            ]
          },
          "execution_count": 754,
          "metadata": {},
          "output_type": "execute_result"
        }
      ],
      "source": [
        "data['alco'].skew()"
      ]
    },
    {
      "cell_type": "code",
      "execution_count": null,
      "metadata": {
        "id": "7Fn_X-pVPLe_"
      },
      "outputs": [],
      "source": [
        "def count_plot(column_name, hue = None, rotation = 0):\n",
        "    \"\"\"\n",
        "    1) input : column name, column data type must be object or categorical\n",
        "    3) output : cout plot using seaborn modules, unique values in x-axis and frequency in y-axis\n",
        "    4) i use bar_label to show frequency of each unique values above each column in graph\n",
        "    \"\"\"\n",
        "    graph = sns.countplot(x = column_name, data = data, hue = hue, order = data[column_name].value_counts().index)\n",
        "    for container in graph.containers:\n",
        "        graph.bar_label(container)\n",
        "\n",
        "    plt.xticks(rotation = rotation)\n",
        "    plt.show()\n",
        "def box_plot(x_axis = None, y_axis = None):\n",
        "    sns.boxplot(x = x_axis, y = y_axis, data = data)\n",
        "    plt.xlabel(x_axis)\n",
        "    plt.ylabel(\"FRQ\")\n",
        "    plt.show()"
      ]
    },
    {
      "cell_type": "code",
      "execution_count": null,
      "metadata": {
        "colab": {
          "base_uri": "https://localhost:8080/",
          "height": 542
        },
        "id": "AHwfklJtXkG0",
        "outputId": "bf88f89b-9dc4-49d1-9077-f8ca22d81852"
      },
      "outputs": [
        {
          "data": {
            "text/plain": [
              "'\\nsum_counts = data[\\'num_suicide\\'].value_counts().sort_index()\\ntargetfig = go.Figure(go.Pie(values=sum_counts, labels=sum_counts.index),\\n                     layout=go.Layout(title=go.layout.Title(text=\"target\")))\\ntargetfig.show()\\n'"
            ]
          },
          "execution_count": 756,
          "metadata": {},
          "output_type": "execute_result"
        }
      ],
      "source": [
        "'''\n",
        "sum_counts = data['num_suicide'].value_counts().sort_index()\n",
        "targetfig = go.Figure(go.Pie(values=sum_counts, labels=sum_counts.index),\n",
        "                     layout=go.Layout(title=go.layout.Title(text=\"target\")))\n",
        "targetfig.show()\n",
        "'''"
      ]
    },
    {
      "cell_type": "code",
      "execution_count": null,
      "metadata": {
        "colab": {
          "base_uri": "https://localhost:8080/",
          "height": 652
        },
        "id": "GlTQiIGq-XIq",
        "outputId": "be917b3e-505c-48f0-9ae2-8341e655b270"
      },
      "outputs": [
        {
          "data": {
            "text/html": [
              "<div>\n",
              "<style scoped>\n",
              "    .dataframe tbody tr th:only-of-type {\n",
              "        vertical-align: middle;\n",
              "    }\n",
              "\n",
              "    .dataframe tbody tr th {\n",
              "        vertical-align: top;\n",
              "    }\n",
              "\n",
              "    .dataframe thead th {\n",
              "        text-align: right;\n",
              "    }\n",
              "</style>\n",
              "<table border=\"1\" class=\"dataframe\">\n",
              "  <thead>\n",
              "    <tr style=\"text-align: right;\">\n",
              "      <th></th>\n",
              "      <th>district</th>\n",
              "      <th>num_suicide</th>\n",
              "      <th>alco</th>\n",
              "      <th>cash_income</th>\n",
              "      <th>incomes_below_the_poverty_line</th>\n",
              "      <th>mental_disorder</th>\n",
              "      <th>num_crimes</th>\n",
              "      <th>poverty_level</th>\n",
              "      <th>rape_num</th>\n",
              "      <th>employee_ratio</th>\n",
              "    </tr>\n",
              "  </thead>\n",
              "  <tbody>\n",
              "    <tr>\n",
              "      <th>0</th>\n",
              "      <td>Российская Федерация</td>\n",
              "      <td>11.7</td>\n",
              "      <td>6.0336</td>\n",
              "      <td>10.477457</td>\n",
              "      <td>2.509599</td>\n",
              "      <td>15.185182</td>\n",
              "      <td>13.692960</td>\n",
              "      <td>2.509599</td>\n",
              "      <td>3177</td>\n",
              "      <td>4.461300</td>\n",
              "    </tr>\n",
              "    <tr>\n",
              "      <th>1</th>\n",
              "      <td>Белгородская область</td>\n",
              "      <td>11.0</td>\n",
              "      <td>4.9824</td>\n",
              "      <td>10.385852</td>\n",
              "      <td>2.054124</td>\n",
              "      <td>10.518619</td>\n",
              "      <td>8.772765</td>\n",
              "      <td>2.054124</td>\n",
              "      <td>5</td>\n",
              "      <td>4.476200</td>\n",
              "    </tr>\n",
              "    <tr>\n",
              "      <th>2</th>\n",
              "      <td>Брянская область</td>\n",
              "      <td>11.3</td>\n",
              "      <td>5.5272</td>\n",
              "      <td>10.254919</td>\n",
              "      <td>2.624669</td>\n",
              "      <td>10.020426</td>\n",
              "      <td>8.860499</td>\n",
              "      <td>2.624669</td>\n",
              "      <td>17</td>\n",
              "      <td>4.347694</td>\n",
              "    </tr>\n",
              "    <tr>\n",
              "      <th>3</th>\n",
              "      <td>Владимирская область</td>\n",
              "      <td>14.3</td>\n",
              "      <td>7.6111</td>\n",
              "      <td>10.142150</td>\n",
              "      <td>2.533697</td>\n",
              "      <td>10.690034</td>\n",
              "      <td>8.870663</td>\n",
              "      <td>2.533697</td>\n",
              "      <td>18</td>\n",
              "      <td>4.458988</td>\n",
              "    </tr>\n",
              "    <tr>\n",
              "      <th>4</th>\n",
              "      <td>Воронежская область</td>\n",
              "      <td>11.1</td>\n",
              "      <td>4.9702</td>\n",
              "      <td>10.374178</td>\n",
              "      <td>2.186051</td>\n",
              "      <td>11.093873</td>\n",
              "      <td>9.343734</td>\n",
              "      <td>2.186051</td>\n",
              "      <td>38</td>\n",
              "      <td>4.454347</td>\n",
              "    </tr>\n",
              "    <tr>\n",
              "      <th>...</th>\n",
              "      <td>...</td>\n",
              "      <td>...</td>\n",
              "      <td>...</td>\n",
              "      <td>...</td>\n",
              "      <td>...</td>\n",
              "      <td>...</td>\n",
              "      <td>...</td>\n",
              "      <td>...</td>\n",
              "      <td>...</td>\n",
              "      <td>...</td>\n",
              "    </tr>\n",
              "    <tr>\n",
              "      <th>80</th>\n",
              "      <td>Амурская область</td>\n",
              "      <td>30.2</td>\n",
              "      <td>7.2232</td>\n",
              "      <td>10.413433</td>\n",
              "      <td>2.753661</td>\n",
              "      <td>10.165583</td>\n",
              "      <td>8.978787</td>\n",
              "      <td>2.753661</td>\n",
              "      <td>33</td>\n",
              "      <td>4.457830</td>\n",
              "    </tr>\n",
              "    <tr>\n",
              "      <th>81</th>\n",
              "      <td>Магаданская область</td>\n",
              "      <td>16.3</td>\n",
              "      <td>10.6641</td>\n",
              "      <td>11.087773</td>\n",
              "      <td>2.230014</td>\n",
              "      <td>8.191186</td>\n",
              "      <td>7.349231</td>\n",
              "      <td>2.230014</td>\n",
              "      <td>5</td>\n",
              "      <td>4.681205</td>\n",
              "    </tr>\n",
              "    <tr>\n",
              "      <th>82</th>\n",
              "      <td>Сахалинская область</td>\n",
              "      <td>0.4</td>\n",
              "      <td>11.1699</td>\n",
              "      <td>10.985564</td>\n",
              "      <td>2.104134</td>\n",
              "      <td>9.416948</td>\n",
              "      <td>8.344980</td>\n",
              "      <td>2.104134</td>\n",
              "      <td>3</td>\n",
              "      <td>4.601162</td>\n",
              "    </tr>\n",
              "    <tr>\n",
              "      <th>83</th>\n",
              "      <td>Еврейская автономная область</td>\n",
              "      <td>32.7</td>\n",
              "      <td>8.4527</td>\n",
              "      <td>10.188742</td>\n",
              "      <td>3.173878</td>\n",
              "      <td>8.709630</td>\n",
              "      <td>7.221836</td>\n",
              "      <td>3.173878</td>\n",
              "      <td>6</td>\n",
              "      <td>4.265493</td>\n",
              "    </tr>\n",
              "    <tr>\n",
              "      <th>84</th>\n",
              "      <td>Чукотский автономный округ</td>\n",
              "      <td>18.0</td>\n",
              "      <td>8.3082</td>\n",
              "      <td>11.331224</td>\n",
              "      <td>2.140066</td>\n",
              "      <td>7.935587</td>\n",
              "      <td>6.331502</td>\n",
              "      <td>2.140066</td>\n",
              "      <td>3</td>\n",
              "      <td>4.675629</td>\n",
              "    </tr>\n",
              "  </tbody>\n",
              "</table>\n",
              "<p>85 rows × 10 columns</p>\n",
              "</div>"
            ],
            "text/plain": [
              "                        district  num_suicide     alco  cash_income  \\\n",
              "0           Российская Федерация         11.7   6.0336    10.477457   \n",
              "1           Белгородская область         11.0   4.9824    10.385852   \n",
              "2               Брянская область         11.3   5.5272    10.254919   \n",
              "3           Владимирская область         14.3   7.6111    10.142150   \n",
              "4            Воронежская область         11.1   4.9702    10.374178   \n",
              "..                           ...          ...      ...          ...   \n",
              "80              Амурская область         30.2   7.2232    10.413433   \n",
              "81           Магаданская область         16.3  10.6641    11.087773   \n",
              "82           Сахалинская область          0.4  11.1699    10.985564   \n",
              "83  Еврейская автономная область         32.7   8.4527    10.188742   \n",
              "84    Чукотский автономный округ         18.0   8.3082    11.331224   \n",
              "\n",
              "    incomes_below_the_poverty_line  mental_disorder  num_crimes  \\\n",
              "0                         2.509599        15.185182   13.692960   \n",
              "1                         2.054124        10.518619    8.772765   \n",
              "2                         2.624669        10.020426    8.860499   \n",
              "3                         2.533697        10.690034    8.870663   \n",
              "4                         2.186051        11.093873    9.343734   \n",
              "..                             ...              ...         ...   \n",
              "80                        2.753661        10.165583    8.978787   \n",
              "81                        2.230014         8.191186    7.349231   \n",
              "82                        2.104134         9.416948    8.344980   \n",
              "83                        3.173878         8.709630    7.221836   \n",
              "84                        2.140066         7.935587    6.331502   \n",
              "\n",
              "    poverty_level  rape_num  employee_ratio  \n",
              "0        2.509599      3177        4.461300  \n",
              "1        2.054124         5        4.476200  \n",
              "2        2.624669        17        4.347694  \n",
              "3        2.533697        18        4.458988  \n",
              "4        2.186051        38        4.454347  \n",
              "..            ...       ...             ...  \n",
              "80       2.753661        33        4.457830  \n",
              "81       2.230014         5        4.681205  \n",
              "82       2.104134         3        4.601162  \n",
              "83       3.173878         6        4.265493  \n",
              "84       2.140066         3        4.675629  \n",
              "\n",
              "[85 rows x 10 columns]"
            ]
          },
          "execution_count": 757,
          "metadata": {},
          "output_type": "execute_result"
        }
      ],
      "source": [
        "data"
      ]
    },
    {
      "cell_type": "code",
      "execution_count": null,
      "metadata": {
        "colab": {
          "base_uri": "https://localhost:8080/"
        },
        "id": "C3Qs1zG_OrWP",
        "outputId": "3fbe8e30-ed69-4405-b5c7-c4c4ecffe64a"
      },
      "outputs": [
        {
          "name": "stdout",
          "output_type": "stream",
          "text": [
            "<class 'pandas.core.frame.DataFrame'>\n",
            "RangeIndex: 85 entries, 0 to 84\n",
            "Data columns (total 10 columns):\n",
            " #   Column                          Non-Null Count  Dtype  \n",
            "---  ------                          --------------  -----  \n",
            " 0   district                        85 non-null     object \n",
            " 1   num_suicide                     85 non-null     float64\n",
            " 2   alco                            85 non-null     float64\n",
            " 3   cash_income                     85 non-null     float64\n",
            " 4   incomes_below_the_poverty_line  85 non-null     float64\n",
            " 5   mental_disorder                 85 non-null     float64\n",
            " 6   num_crimes                      85 non-null     float64\n",
            " 7   poverty_level                   85 non-null     float64\n",
            " 8   rape_num                        85 non-null     int64  \n",
            " 9   employee_ratio                  85 non-null     float64\n",
            "dtypes: float64(8), int64(1), object(1)\n",
            "memory usage: 6.8+ KB\n"
          ]
        }
      ],
      "source": [
        "data.info()"
      ]
    },
    {
      "cell_type": "code",
      "execution_count": null,
      "metadata": {
        "colab": {
          "base_uri": "https://localhost:8080/"
        },
        "id": "h_TRH75mOxJG",
        "outputId": "2675e6e1-e72e-4eb2-b307-9888fcda68c0"
      },
      "outputs": [
        {
          "data": {
            "text/plain": [
              "False"
            ]
          },
          "execution_count": 759,
          "metadata": {},
          "output_type": "execute_result"
        }
      ],
      "source": [
        "data.duplicated().any()"
      ]
    },
    {
      "cell_type": "code",
      "execution_count": null,
      "metadata": {
        "colab": {
          "base_uri": "https://localhost:8080/",
          "height": 175
        },
        "id": "rbpTLJKnO7KM",
        "outputId": "c43281d0-574d-4335-eb42-32f3cdb62853"
      },
      "outputs": [
        {
          "data": {
            "text/html": [
              "<div>\n",
              "<style scoped>\n",
              "    .dataframe tbody tr th:only-of-type {\n",
              "        vertical-align: middle;\n",
              "    }\n",
              "\n",
              "    .dataframe tbody tr th {\n",
              "        vertical-align: top;\n",
              "    }\n",
              "\n",
              "    .dataframe thead th {\n",
              "        text-align: right;\n",
              "    }\n",
              "</style>\n",
              "<table border=\"1\" class=\"dataframe\">\n",
              "  <thead>\n",
              "    <tr style=\"text-align: right;\">\n",
              "      <th></th>\n",
              "      <th>district</th>\n",
              "    </tr>\n",
              "  </thead>\n",
              "  <tbody>\n",
              "    <tr>\n",
              "      <th>count</th>\n",
              "      <td>85</td>\n",
              "    </tr>\n",
              "    <tr>\n",
              "      <th>unique</th>\n",
              "      <td>85</td>\n",
              "    </tr>\n",
              "    <tr>\n",
              "      <th>top</th>\n",
              "      <td>Российская Федерация</td>\n",
              "    </tr>\n",
              "    <tr>\n",
              "      <th>freq</th>\n",
              "      <td>1</td>\n",
              "    </tr>\n",
              "  </tbody>\n",
              "</table>\n",
              "</div>"
            ],
            "text/plain": [
              "                    district\n",
              "count                     85\n",
              "unique                    85\n",
              "top     Российская Федерация\n",
              "freq                       1"
            ]
          },
          "execution_count": 760,
          "metadata": {},
          "output_type": "execute_result"
        }
      ],
      "source": [
        "data.describe(include = object)"
      ]
    },
    {
      "cell_type": "code",
      "execution_count": null,
      "metadata": {
        "id": "9YIKQQvuqA4z"
      },
      "outputs": [],
      "source": [
        "data.drop(index = 0, inplace = True)\n",
        "data.reset_index(drop= True , inplace= True )"
      ]
    },
    {
      "cell_type": "code",
      "execution_count": null,
      "metadata": {
        "colab": {
          "base_uri": "https://localhost:8080/",
          "height": 657
        },
        "id": "1EW9sCr_SpXR",
        "outputId": "ab8a532b-0083-4b46-f77a-bcb45798340f"
      },
      "outputs": [
        {
          "data": {
            "image/png": "[encoded data removed]",
            "text/plain": [
              "<Figure size 1600x600 with 2 Axes>"
            ]
          },
          "metadata": {},
          "output_type": "display_data"
        },
        {
          "data": {
            "text/html": [
              "<div>\n",
              "<style scoped>\n",
              "    .dataframe tbody tr th:only-of-type {\n",
              "        vertical-align: middle;\n",
              "    }\n",
              "\n",
              "    .dataframe tbody tr th {\n",
              "        vertical-align: top;\n",
              "    }\n",
              "\n",
              "    .dataframe thead th {\n",
              "        text-align: right;\n",
              "    }\n",
              "</style>\n",
              "<table border=\"1\" class=\"dataframe\">\n",
              "  <thead>\n",
              "    <tr style=\"text-align: right;\">\n",
              "      <th></th>\n",
              "      <th>district</th>\n",
              "      <th>num_suicide</th>\n",
              "      <th>alco</th>\n",
              "      <th>cash_income</th>\n",
              "      <th>incomes_below_the_poverty_line</th>\n",
              "      <th>mental_disorder</th>\n",
              "      <th>num_crimes</th>\n",
              "      <th>poverty_level</th>\n",
              "      <th>rape_num</th>\n",
              "      <th>employee_ratio</th>\n",
              "    </tr>\n",
              "  </thead>\n",
              "  <tbody>\n",
              "    <tr>\n",
              "      <th>0</th>\n",
              "      <td>Белгородская область</td>\n",
              "      <td>11.0</td>\n",
              "      <td>4.9824</td>\n",
              "      <td>10.385852</td>\n",
              "      <td>2.054124</td>\n",
              "      <td>10.518619</td>\n",
              "      <td>8.772765</td>\n",
              "      <td>2.054124</td>\n",
              "      <td>5</td>\n",
              "      <td>4.476200</td>\n",
              "    </tr>\n",
              "    <tr>\n",
              "      <th>1</th>\n",
              "      <td>Брянская область</td>\n",
              "      <td>11.3</td>\n",
              "      <td>5.5272</td>\n",
              "      <td>10.254919</td>\n",
              "      <td>2.624669</td>\n",
              "      <td>10.020426</td>\n",
              "      <td>8.860499</td>\n",
              "      <td>2.624669</td>\n",
              "      <td>17</td>\n",
              "      <td>4.347694</td>\n",
              "    </tr>\n",
              "    <tr>\n",
              "      <th>2</th>\n",
              "      <td>Владимирская область</td>\n",
              "      <td>14.3</td>\n",
              "      <td>7.6111</td>\n",
              "      <td>10.142150</td>\n",
              "      <td>2.533697</td>\n",
              "      <td>10.690034</td>\n",
              "      <td>8.870663</td>\n",
              "      <td>2.533697</td>\n",
              "      <td>18</td>\n",
              "      <td>4.458988</td>\n",
              "    </tr>\n",
              "    <tr>\n",
              "      <th>3</th>\n",
              "      <td>Воронежская область</td>\n",
              "      <td>11.1</td>\n",
              "      <td>4.9702</td>\n",
              "      <td>10.374178</td>\n",
              "      <td>2.186051</td>\n",
              "      <td>11.093873</td>\n",
              "      <td>9.343734</td>\n",
              "      <td>2.186051</td>\n",
              "      <td>38</td>\n",
              "      <td>4.454347</td>\n",
              "    </tr>\n",
              "    <tr>\n",
              "      <th>4</th>\n",
              "      <td>Ивановская область</td>\n",
              "      <td>17.2</td>\n",
              "      <td>6.7099</td>\n",
              "      <td>10.157897</td>\n",
              "      <td>2.653242</td>\n",
              "      <td>10.543498</td>\n",
              "      <td>8.573952</td>\n",
              "      <td>2.653242</td>\n",
              "      <td>12</td>\n",
              "      <td>4.395683</td>\n",
              "    </tr>\n",
              "  </tbody>\n",
              "</table>\n",
              "</div>"
            ],
            "text/plain": [
              "               district  num_suicide    alco  cash_income  \\\n",
              "0  Белгородская область         11.0  4.9824    10.385852   \n",
              "1      Брянская область         11.3  5.5272    10.254919   \n",
              "2  Владимирская область         14.3  7.6111    10.142150   \n",
              "3   Воронежская область         11.1  4.9702    10.374178   \n",
              "4    Ивановская область         17.2  6.7099    10.157897   \n",
              "\n",
              "   incomes_below_the_poverty_line  mental_disorder  num_crimes  poverty_level  \\\n",
              "0                        2.054124        10.518619    8.772765       2.054124   \n",
              "1                        2.624669        10.020426    8.860499       2.624669   \n",
              "2                        2.533697        10.690034    8.870663       2.533697   \n",
              "3                        2.186051        11.093873    9.343734       2.186051   \n",
              "4                        2.653242        10.543498    8.573952       2.653242   \n",
              "\n",
              "   rape_num  employee_ratio  \n",
              "0         5        4.476200  \n",
              "1        17        4.347694  \n",
              "2        18        4.458988  \n",
              "3        38        4.454347  \n",
              "4        12        4.395683  "
            ]
          },
          "execution_count": 762,
          "metadata": {},
          "output_type": "execute_result"
        }
      ],
      "source": [
        "plt.figure(figsize=(16, 6))\n",
        "heatmap = sns.heatmap(data.corr(numeric_only=True), vmin=-1, vmax=1, annot=True, cmap=sns.cm.rocket_r)\n",
        "heatmap.set_title('Correlation Heatmap', fontdict={'fontsize':12}, pad=12)\n",
        "plt.show()\n",
        "\n",
        "data.head()"
      ]
    },
    {
      "cell_type": "code",
      "execution_count": null,
      "metadata": {
        "colab": {
          "base_uri": "https://localhost:8080/",
          "height": 450
        },
        "id": "3dMv4zIqiK6e",
        "outputId": "0af6ebbc-d957-4ca1-d713-0c80a28b0be7"
      },
      "outputs": [
        {
          "data": {
            "image/png": "[encoded data removed]",
            "text/plain": [
              "<Figure size 640x480 with 1 Axes>"
            ]
          },
          "metadata": {},
          "output_type": "display_data"
        }
      ],
      "source": [
        "#график рассеяния\n",
        "xs = data['mental_disorder']#.apply( np.log )\n",
        "ys = data['num_crimes']#.apply( np.log )\n",
        "pd.DataFrame(np.array([xs,ys]).T).plot.scatter(0, 1, s=12, grid=True)\n",
        "plt.xlabel('mental_disorder')\n",
        "plt.ylabel('num_crimes')\n",
        "plt.show()"
      ]
    },
    {
      "cell_type": "markdown",
      "metadata": {
        "id": "VXZ2ZMAvixoS"
      },
      "source": [
        "Результат ясно показывает, что между этими двумя переменными имеется связь."
      ]
    },
    {
      "cell_type": "markdown",
      "metadata": {
        "id": "RvrYTxQ_9aqA"
      },
      "source": [
        "имплементация корреляции Пирсона"
      ]
    },
    {
      "cell_type": "code",
      "execution_count": null,
      "metadata": {
        "colab": {
          "base_uri": "https://localhost:8080/"
        },
        "id": "GI9iKW6JF5wc",
        "outputId": "452e1a70-23ed-43ba-b103-4c95d26c182e"
      },
      "outputs": [
        {
          "name": "stdout",
          "output_type": "stream",
          "text": [
            "0.9356465287858167\n"
          ]
        }
      ],
      "source": [
        "print(data['mental_disorder'].corr(data['num_crimes']))"
      ]
    },
    {
      "cell_type": "markdown",
      "metadata": {
        "id": "wQd4ac9Sqo2Q"
      },
      "source": [
        "переменные сильно коррелируют"
      ]
    },
    {
      "cell_type": "code",
      "execution_count": null,
      "metadata": {
        "id": "5-XPpHRPw5gg"
      },
      "outputs": [],
      "source": [
        "#data.drop(columns = \"num_crimes\", inplace = True)"
      ]
    },
    {
      "cell_type": "code",
      "execution_count": null,
      "metadata": {
        "colab": {
          "base_uri": "https://localhost:8080/",
          "height": 449
        },
        "id": "ar6EhyKzqm6z",
        "outputId": "f768862d-a9b9-4351-c6df-dd0a9946dc1d"
      },
      "outputs": [
        {
          "data": {
            "image/png": "[encoded data removed]",
            "text/plain": [
              "<Figure size 640x480 with 1 Axes>"
            ]
          },
          "metadata": {},
          "output_type": "display_data"
        }
      ],
      "source": [
        "#график рассеяния\n",
        "xs = data['rape_num'].apply( np.log )\n",
        "ys = data['num_crimes']#.apply( np.log )\n",
        "pd.DataFrame(np.array([xs,ys]).T).plot.scatter(0, 1, s=12, grid=True)\n",
        "plt.xlabel('rape_num')\n",
        "plt.ylabel('num_crimes')\n",
        "plt.show()"
      ]
    },
    {
      "cell_type": "markdown",
      "metadata": {
        "id": "Xp2YLBJdq8nm"
      },
      "source": [
        "имплементация корреляции Пирсона"
      ]
    },
    {
      "cell_type": "code",
      "execution_count": null,
      "metadata": {
        "colab": {
          "base_uri": "https://localhost:8080/"
        },
        "id": "EnJ5P7H3q-8b",
        "outputId": "242e1f35-de82-403b-f31c-e95f1edc7236"
      },
      "outputs": [
        {
          "name": "stdout",
          "output_type": "stream",
          "text": [
            "0.7011446801844059\n"
          ]
        }
      ],
      "source": [
        "x = data['rape_num']\n",
        "print(x.corr(data['num_crimes']))"
      ]
    },
    {
      "cell_type": "markdown",
      "metadata": {
        "id": "LVe6vwC5BMAo"
      },
      "source": [
        "переменные  коррелируют"
      ]
    },
    {
      "cell_type": "code",
      "execution_count": null,
      "metadata": {
        "colab": {
          "base_uri": "https://localhost:8080/",
          "height": 450
        },
        "id": "gODgQR-bs1At",
        "outputId": "dbbc7a13-14c6-40df-8d79-7888edf3870f"
      },
      "outputs": [
        {
          "data": {
            "image/png": "[encoded data removed]",
            "text/plain": [
              "<Figure size 640x480 with 1 Axes>"
            ]
          },
          "metadata": {},
          "output_type": "display_data"
        }
      ],
      "source": [
        "#график рассеяния\n",
        "xs = data['incomes_below_the_poverty_line']\n",
        "ys = data['poverty_level']\n",
        "pd.DataFrame(np.array([xs,ys]).T).plot.scatter(0, 1, s=12, grid=True)\n",
        "plt.xlabel('incomes_below_the_poverty_line')\n",
        "plt.ylabel('poverty_level')\n",
        "plt.show()"
      ]
    },
    {
      "cell_type": "code",
      "execution_count": null,
      "metadata": {
        "colab": {
          "base_uri": "https://localhost:8080/"
        },
        "id": "H_wldCHhxMgL",
        "outputId": "5c016689-a188-4164-fb5b-1fd5d18db3bd"
      },
      "outputs": [
        {
          "name": "stdout",
          "output_type": "stream",
          "text": [
            "0.9965217417910125\n"
          ]
        }
      ],
      "source": [
        "print(data['incomes_below_the_poverty_line'].corr(data['poverty_level']))"
      ]
    },
    {
      "cell_type": "markdown",
      "metadata": {
        "id": "BXsRaIkRxhS7"
      },
      "source": [
        "переменные сильно коррелируют"
      ]
    },
    {
      "cell_type": "code",
      "execution_count": null,
      "metadata": {
        "id": "g2QmwiIyGkDC"
      },
      "outputs": [],
      "source": [
        "#"
      ]
    },
    {
      "cell_type": "code",
      "execution_count": null,
      "metadata": {
        "id": "PHztZciWwSqS"
      },
      "outputs": [],
      "source": [
        "def jitter(limit):\n",
        "    '''Генератор джиттера (произвольного сдвига точек данных)'''\n",
        "    return lambda x: random.uniform(-limit, limit) + x\n",
        "def t_statistic(xs, ys):\n",
        "    '''Вычисление t-статистики'''\n",
        "    r = xs.corr(ys)\n",
        "    df = xs.count() - 2\n",
        "    return r * np.sqrt(df / 1 - r ** 2)\n",
        "def t_test(xs, ys):\n",
        "    '''Выполнение двухстороннего t-теста'''\n",
        "    t_value = t_statistic(xs, ys)\n",
        "    df = xs.count() - 2\n",
        "    p = 2 * stats.t.sf(t_value, df)  # функция выживания\n",
        "    return {'t-значение':t_value, 'p-значение':p}"
      ]
    },
    {
      "cell_type": "code",
      "execution_count": null,
      "metadata": {
        "colab": {
          "base_uri": "https://localhost:8080/"
        },
        "id": "VBvAsiB27Ubq",
        "outputId": "cb920769-3cc9-42cd-f749-21c84b233bec"
      },
      "outputs": [
        {
          "data": {
            "text/plain": [
              "{'t-значение': 8.969080126971338, 'p-значение': 8.292094798620893e-14}"
            ]
          },
          "execution_count": 772,
          "metadata": {},
          "output_type": "execute_result"
        }
      ],
      "source": [
        "t_test(data['incomes_below_the_poverty_line'],data['poverty_level'])"
      ]
    },
    {
      "cell_type": "markdown",
      "metadata": {
        "id": "VlCl8BmO_4WG"
      },
      "source": [
        " Мы вынуждены принять альтернативную гипотезу о существовании корреляции."
      ]
    },
    {
      "cell_type": "code",
      "execution_count": null,
      "metadata": {
        "id": "N6od0y8W_8jF"
      },
      "outputs": [],
      "source": [
        "data.drop(columns = \"incomes_below_the_poverty_line\", inplace = True)"
      ]
    },
    {
      "cell_type": "code",
      "execution_count": null,
      "metadata": {
        "colab": {
          "base_uri": "https://localhost:8080/"
        },
        "id": "LqZfkr5P__wm",
        "outputId": "40d6b215-0b39-436f-9b42-12148075c3b7"
      },
      "outputs": [
        {
          "data": {
            "text/plain": [
              "{'t-значение': 6.330074436489531, 'p-значение': 1.2331414173069111e-08}"
            ]
          },
          "execution_count": 774,
          "metadata": {},
          "output_type": "execute_result"
        }
      ],
      "source": [
        "t_test(data['rape_num'],data['num_crimes'])"
      ]
    },
    {
      "cell_type": "code",
      "execution_count": null,
      "metadata": {
        "id": "FUOYC3osAcY9"
      },
      "outputs": [],
      "source": [
        "data.drop(columns = \"rape_num\", inplace = True)"
      ]
    },
    {
      "cell_type": "code",
      "execution_count": null,
      "metadata": {
        "colab": {
          "base_uri": "https://localhost:8080/"
        },
        "id": "DF-Ve5IIG98U",
        "outputId": "c7d119d3-0e10-416c-dff1-50a828fe514d"
      },
      "outputs": [
        {
          "data": {
            "text/plain": [
              "{'t-значение': 8.427291235284113, 'p-значение': 9.917283607862887e-13}"
            ]
          },
          "execution_count": 776,
          "metadata": {},
          "output_type": "execute_result"
        }
      ],
      "source": [
        "t_test(data['mental_disorder'],data['num_crimes'])"
      ]
    },
    {
      "cell_type": "code",
      "execution_count": null,
      "metadata": {
        "id": "n8QZSjtSG6A7"
      },
      "outputs": [],
      "source": [
        "data.drop(columns = \"num_crimes\", inplace = True)"
      ]
    },
    {
      "cell_type": "code",
      "execution_count": null,
      "metadata": {
        "colab": {
          "base_uri": "https://localhost:8080/"
        },
        "id": "2qzzlQhnHWuK",
        "outputId": "cc7fc59f-6a9e-4c22-871f-0d4966e32743"
      },
      "outputs": [
        {
          "data": {
            "text/plain": [
              "{'t-значение': 6.978713561142164, 'p-значение': 7.054973677680329e-10}"
            ]
          },
          "execution_count": 778,
          "metadata": {},
          "output_type": "execute_result"
        }
      ],
      "source": [
        "t_test(data['cash_income'],data['employee_ratio'])"
      ]
    },
    {
      "cell_type": "code",
      "execution_count": null,
      "metadata": {
        "id": "q0TUUNsEHRg6"
      },
      "outputs": [],
      "source": [
        "data.drop(columns = \"cash_income\", inplace = True)"
      ]
    },
    {
      "cell_type": "code",
      "execution_count": null,
      "metadata": {
        "colab": {
          "base_uri": "https://localhost:8080/"
        },
        "id": "F_X0R2kkHdx7",
        "outputId": "1d7825ea-6459-428b-c60d-0a09f241990c"
      },
      "outputs": [
        {
          "data": {
            "text/plain": [
              "{'t-значение': -6.445230992257486, 'p-значение': 1.9999999925387852}"
            ]
          },
          "execution_count": 780,
          "metadata": {},
          "output_type": "execute_result"
        }
      ],
      "source": [
        "t_test(data['poverty_level'],data['employee_ratio'])"
      ]
    },
    {
      "cell_type": "code",
      "execution_count": null,
      "metadata": {
        "colab": {
          "base_uri": "https://localhost:8080/",
          "height": 263
        },
        "id": "5hzhVLqdh78Q",
        "outputId": "017536fc-085d-4820-e283-bb022f789fe6"
      },
      "outputs": [
        {
          "data": {
            "image/png": "[encoded data removed]",
            "text/plain": [
              "<Figure size 1600x600 with 2 Axes>"
            ]
          },
          "metadata": {},
          "output_type": "display_data"
        }
      ],
      "source": [
        "plt.figure(figsize=(16, 6))\n",
        "heatmap = sns.heatmap(data.corr(numeric_only=True), vmin=-1, vmax=1, annot=True, cmap=sns.cm.rocket_r)\n",
        "heatmap.set_title('Correlation Heatmap', fontdict={'fontsize':12}, pad=12)\n",
        "plt.show()"
      ]
    },
    {
      "cell_type": "code",
      "execution_count": null,
      "metadata": {
        "colab": {
          "base_uri": "https://localhost:8080/",
          "height": 122
        },
        "id": "8WL-zIerJJdr",
        "outputId": "a5261035-78d3-4cff-91c6-af475a64ef46"
      },
      "outputs": [
        {
          "data": {
            "text/plain": [
              "'for i, feature in enumerate(num_cols):\\n    fig, ax = plt.subplots(1, 1, figsize=(10,8))\\n    sns.histplot(\\n        data=data,\\n        x=feature,\\n        ax=ax,\\n        hue=target_col,\\n        kde=True,\\n        bins=50\\n    )\\n    ax.set_title(f\"распределение целевого признака по столбцу {feature}\")\\n    plt.show()\\n    print(f\"Описательные статистики по столбцу {feature} в зависимости от статуса\")\\n    display(\\n        data.groupby(target_col)[feature].describe()\\n    )'"
            ]
          },
          "execution_count": 782,
          "metadata": {},
          "output_type": "execute_result"
        }
      ],
      "source": [
        "'''for i, feature in enumerate(num_cols):\n",
        "    fig, ax = plt.subplots(1, 1, figsize=(10,8))\n",
        "    sns.histplot(\n",
        "        data=data,\n",
        "        x=feature,\n",
        "        ax=ax,\n",
        "        hue=target_col,\n",
        "        kde=True,\n",
        "        bins=50\n",
        "    )\n",
        "    ax.set_title(f\"распределение целевого признака по столбцу {feature}\")\n",
        "    plt.show()\n",
        "    print(f\"Описательные статистики по столбцу {feature} в зависимости от статуса\")\n",
        "    display(\n",
        "        data.groupby(target_col)[feature].describe()\n",
        "    )'''"
      ]
    },
    {
      "cell_type": "markdown",
      "metadata": {
        "id": "pe6836R-lr3k"
      },
      "source": [
        "Описательная статистика"
      ]
    },
    {
      "cell_type": "code",
      "execution_count": null,
      "metadata": {
        "colab": {
          "base_uri": "https://localhost:8080/",
          "height": 320
        },
        "id": "F8K578p_llfp",
        "outputId": "cd5c6c08-c5e8-4be8-872a-d08ecacb2613"
      },
      "outputs": [
        {
          "data": {
            "text/html": [
              "<div>\n",
              "<style scoped>\n",
              "    .dataframe tbody tr th:only-of-type {\n",
              "        vertical-align: middle;\n",
              "    }\n",
              "\n",
              "    .dataframe tbody tr th {\n",
              "        vertical-align: top;\n",
              "    }\n",
              "\n",
              "    .dataframe thead th {\n",
              "        text-align: right;\n",
              "    }\n",
              "</style>\n",
              "<table border=\"1\" class=\"dataframe\">\n",
              "  <thead>\n",
              "    <tr style=\"text-align: right;\">\n",
              "      <th></th>\n",
              "      <th>num_suicide</th>\n",
              "      <th>alco</th>\n",
              "      <th>mental_disorder</th>\n",
              "      <th>poverty_level</th>\n",
              "      <th>employee_ratio</th>\n",
              "    </tr>\n",
              "  </thead>\n",
              "  <tbody>\n",
              "    <tr>\n",
              "      <th>count</th>\n",
              "      <td>84.000000</td>\n",
              "      <td>84.000000</td>\n",
              "      <td>84.000000</td>\n",
              "      <td>84.000000</td>\n",
              "      <td>84.000000</td>\n",
              "    </tr>\n",
              "    <tr>\n",
              "      <th>mean</th>\n",
              "      <td>13.995238</td>\n",
              "      <td>6.106635</td>\n",
              "      <td>10.344167</td>\n",
              "      <td>2.596288</td>\n",
              "      <td>4.412167</td>\n",
              "    </tr>\n",
              "    <tr>\n",
              "      <th>std</th>\n",
              "      <td>8.933016</td>\n",
              "      <td>2.355985</td>\n",
              "      <td>0.982123</td>\n",
              "      <td>0.351485</td>\n",
              "      <td>0.142737</td>\n",
              "    </tr>\n",
              "    <tr>\n",
              "      <th>min</th>\n",
              "      <td>0.200000</td>\n",
              "      <td>0.088900</td>\n",
              "      <td>7.396949</td>\n",
              "      <td>1.704748</td>\n",
              "      <td>4.043051</td>\n",
              "    </tr>\n",
              "    <tr>\n",
              "      <th>25%</th>\n",
              "      <td>7.050000</td>\n",
              "      <td>4.979350</td>\n",
              "      <td>9.827973</td>\n",
              "      <td>2.356092</td>\n",
              "      <td>4.354455</td>\n",
              "    </tr>\n",
              "    <tr>\n",
              "      <th>50%</th>\n",
              "      <td>13.750000</td>\n",
              "      <td>5.995500</td>\n",
              "      <td>10.440750</td>\n",
              "      <td>2.617369</td>\n",
              "      <td>4.415824</td>\n",
              "    </tr>\n",
              "    <tr>\n",
              "      <th>75%</th>\n",
              "      <td>18.050000</td>\n",
              "      <td>7.477125</td>\n",
              "      <td>11.064654</td>\n",
              "      <td>2.786550</td>\n",
              "      <td>4.465620</td>\n",
              "    </tr>\n",
              "    <tr>\n",
              "      <th>max</th>\n",
              "      <td>36.400000</td>\n",
              "      <td>11.169900</td>\n",
              "      <td>12.120133</td>\n",
              "      <td>3.529297</td>\n",
              "      <td>4.836282</td>\n",
              "    </tr>\n",
              "  </tbody>\n",
              "</table>\n",
              "</div>"
            ],
            "text/plain": [
              "       num_suicide       alco  mental_disorder  poverty_level  employee_ratio\n",
              "count    84.000000  84.000000        84.000000      84.000000       84.000000\n",
              "mean     13.995238   6.106635        10.344167       2.596288        4.412167\n",
              "std       8.933016   2.355985         0.982123       0.351485        0.142737\n",
              "min       0.200000   0.088900         7.396949       1.704748        4.043051\n",
              "25%       7.050000   4.979350         9.827973       2.356092        4.354455\n",
              "50%      13.750000   5.995500        10.440750       2.617369        4.415824\n",
              "75%      18.050000   7.477125        11.064654       2.786550        4.465620\n",
              "max      36.400000  11.169900        12.120133       3.529297        4.836282"
            ]
          },
          "execution_count": 783,
          "metadata": {},
          "output_type": "execute_result"
        }
      ],
      "source": [
        "data.describe()"
      ]
    },
    {
      "cell_type": "code",
      "execution_count": null,
      "metadata": {
        "id": "jkf5gRzZHruc"
      },
      "outputs": [],
      "source": [
        "# Числовые признаки\n",
        "num_cols = [\n",
        "        'alco',\n",
        "        'mental_disorder',\n",
        "        'poverty_level',\n",
        "        'employee_ratio'\n",
        "]"
      ]
    },
    {
      "cell_type": "code",
      "execution_count": null,
      "metadata": {
        "colab": {
          "base_uri": "https://localhost:8080/",
          "height": 1000
        },
        "id": "URps8CNal8Xd",
        "outputId": "47a2095e-e4ee-42a2-8445-34407a11f728"
      },
      "outputs": [
        {
          "data": {
            "text/plain": [
              "<Figure size 1169.29x826.772 with 0 Axes>"
            ]
          },
          "metadata": {},
          "output_type": "display_data"
        },
        {
          "data": {
            "image/png": "[encoded data removed]",
            "text/plain": [
              "<Figure size 600x600 with 3 Axes>"
            ]
          },
          "metadata": {},
          "output_type": "display_data"
        },
        {
          "data": {
            "text/plain": [
              "<Figure size 1169.29x826.772 with 0 Axes>"
            ]
          },
          "metadata": {},
          "output_type": "display_data"
        },
        {
          "data": {
            "image/png": "[encoded data removed]",
            "text/plain": [
              "<Figure size 600x600 with 3 Axes>"
            ]
          },
          "metadata": {},
          "output_type": "display_data"
        },
        {
          "data": {
            "text/plain": [
              "<Figure size 1169.29x826.772 with 0 Axes>"
            ]
          },
          "metadata": {},
          "output_type": "display_data"
        },
        {
          "data": {
            "image/png": "[encoded data removed]",
            "text/plain": [
              "<Figure size 600x600 with 3 Axes>"
            ]
          },
          "metadata": {},
          "output_type": "display_data"
        },
        {
          "data": {
            "text/plain": [
              "<Figure size 1169.29x826.772 with 0 Axes>"
            ]
          },
          "metadata": {},
          "output_type": "display_data"
        },
        {
          "data": {
            "image/png": "[encoded data removed]",
            "text/plain": [
              "<Figure size 600x600 with 3 Axes>"
            ]
          },
          "metadata": {},
          "output_type": "display_data"
        }
      ],
      "source": [
        "import seaborn as sns\n",
        "INCH = 25.4\n",
        "for i in num_cols:\n",
        "  fig = plt.figure(figsize=(297/INCH, 210/INCH))\n",
        "  axes = sns.jointplot(\n",
        "    x=data[i], y=data['num_suicide'],\n",
        "    kind='reg',\n",
        "    ci=95)\n",
        "  plt.show()"
      ]
    },
    {
      "cell_type": "code",
      "execution_count": null,
      "metadata": {
        "id": "qhVOaz1ViWsn",
        "outputId": "4313679c-763f-416e-cdd0-1bef7521ce3b"
      },
      "outputs": [
        {
          "data": {
            "text/plain": [
              "\"\\nfrom sklearn.preprocessing import PolynomialFeatures\\nfor i in num_cols:\\n    regr = LinearRegression()\\n    X = data[[i]].values\\n    y = data['num_suicide'].values\\n    #y = data['num_suicide'].values\\n    # create quadratic features\\n    quadratic = PolynomialFeatures(degree=2)\\n    cubic = PolynomialFeatures(degree=3)\\n    X_quad = quadratic.fit_transform(X)\\n    X_cubic = cubic.fit_transform(X)\\n\\n    # fit features\\n    X_fit = np.arange(X.min(), X.max(), 1)[:, np.newaxis]\\n\\n    regr = regr.fit(X, y)\\n    y_lin_fit = regr.predict(X_fit)\\n    linear_r2 = r2_score(y, regr.predict(X))\\n\\n    regr = regr.fit(X_quad, y)\\n    y_quad_fit = regr.predict(quadratic.fit_transform(X_fit))\\n    quadratic_r2 = r2_score(y, regr.predict(X_quad))\\n\\n\\n    # plot results\\n    plt.scatter(X, y, label='training points', color='lightgray')\\n\\n    plt.plot(X_fit, y_lin_fit, \\n         label='linear (d=1), $R^2={:.2f}$'.format(linear_r2), \\n         color='blue', \\n         lw=2, \\n         linestyle=':')\\n\\n    plt.plot(X_fit, y_quad_fit, \\n         label='quadratic (d=2), $R^2={:.2f}$'.format(quadratic_r2),\\n         color='red', \\n         lw=2,\\n         linestyle='-')\\n\\n\\n    plt.xlabel('% lower status of the population [LSTAT]')\\n    plt.ylabel('')\\n    plt.legend(loc='upper right')\\n    plt.show()\\n\""
            ]
          },
          "execution_count": 786,
          "metadata": {},
          "output_type": "execute_result"
        }
      ],
      "source": [
        "#Полиноминальная регрессия\n",
        "'''\n",
        "from sklearn.preprocessing import PolynomialFeatures\n",
        "for i in num_cols:\n",
        "    regr = LinearRegression()\n",
        "    X = data[[i]].values\n",
        "    y = data['num_suicide'].values\n",
        "    #y = data['num_suicide'].values\n",
        "    # create quadratic features\n",
        "    quadratic = PolynomialFeatures(degree=2)\n",
        "    cubic = PolynomialFeatures(degree=3)\n",
        "    X_quad = quadratic.fit_transform(X)\n",
        "    X_cubic = cubic.fit_transform(X)\n",
        "\n",
        "    # fit features\n",
        "    X_fit = np.arange(X.min(), X.max(), 1)[:, np.newaxis]\n",
        "\n",
        "    regr = regr.fit(X, y)\n",
        "    y_lin_fit = regr.predict(X_fit)\n",
        "    linear_r2 = r2_score(y, regr.predict(X))\n",
        "\n",
        "    regr = regr.fit(X_quad, y)\n",
        "    y_quad_fit = regr.predict(quadratic.fit_transform(X_fit))\n",
        "    quadratic_r2 = r2_score(y, regr.predict(X_quad))\n",
        "\n",
        "\n",
        "    # plot results\n",
        "    plt.scatter(X, y, label='training points', color='lightgray')\n",
        "\n",
        "    plt.plot(X_fit, y_lin_fit,\n",
        "         label='linear (d=1), $R^2={:.2f}$'.format(linear_r2),\n",
        "         color='blue',\n",
        "         lw=2,\n",
        "         linestyle=':')\n",
        "\n",
        "    plt.plot(X_fit, y_quad_fit,\n",
        "         label='quadratic (d=2), $R^2={:.2f}$'.format(quadratic_r2),\n",
        "         color='red',\n",
        "         lw=2,\n",
        "         linestyle='-')\n",
        "\n",
        "\n",
        "    plt.xlabel('% lower status of the population [LSTAT]')\n",
        "    plt.ylabel('')\n",
        "    plt.legend(loc='upper right')\n",
        "    plt.show()\n",
        "'''\n"
      ]
    },
    {
      "cell_type": "code",
      "execution_count": null,
      "metadata": {
        "id": "TNMN24ntYMae"
      },
      "outputs": [],
      "source": [
        "numeric_data = data[num_cols]\n",
        "dummy_features = pd.get_dummies(data[cat_cols])\n",
        "X = pd.concat([numeric_data, dummy_features], axis=1)\n",
        "y = data[target_col]"
      ]
    },
    {
      "cell_type": "code",
      "execution_count": null,
      "metadata": {
        "id": "MwBwY7tKiWsp",
        "outputId": "fc64e736-b21f-4dc9-f77b-c9ab4dd83c4c"
      },
      "outputs": [
        {
          "name": "stdout",
          "output_type": "stream",
          "text": [
            "alco 1.68\n",
            "mental_disorder 0.06\n",
            "incomes_below_the_poverty_line 15.72\n",
            "employee_ratio 5.91\n",
            "Intercept: -63.74\n"
          ]
        }
      ],
      "source": [
        "from sklearn.linear_model import LinearRegression\n",
        "slr = LinearRegression()\n",
        "slr.fit(numeric_data, y)\n",
        "y_pred = slr.predict(numeric_data)\n",
        "num_cols = [\n",
        "        'alco',\n",
        "        'mental_disorder',\n",
        "        'incomes_below_the_poverty_line',\n",
        "        'employee_ratio'\n",
        "]\n",
        "for i in range (4):\n",
        "    print(num_cols[i] + ' {:.2f}'.format(slr.coef_[i]))\n",
        "\n",
        "print('Intercept: {:.2f}'.format(slr.intercept_))"
      ]
    },
    {
      "cell_type": "code",
      "execution_count": null,
      "metadata": {
        "id": "iCvmsaYjiWsq",
        "outputId": "b789c3d3-ad59-4081-97f5-2ef6396fcd4f"
      },
      "outputs": [
        {
          "data": {
            "text/plain": [
              "0.2907862310137355"
            ]
          },
          "execution_count": 789,
          "metadata": {},
          "output_type": "execute_result"
        }
      ],
      "source": [
        "np.linalg.det(numeric_data.corr())"
      ]
    },
    {
      "cell_type": "markdown",
      "metadata": {
        "id": "lZ66-BOEiWsq"
      },
      "source": [
        "### График остатков"
      ]
    },
    {
      "cell_type": "code",
      "execution_count": null,
      "metadata": {
        "id": "h6YOOpcAiWsr",
        "outputId": "6b8899f1-a88b-40d0-f34f-3bcc12ecb90a"
      },
      "outputs": [
        {
          "data": {
            "image/png": "[encoded data removed]",
            "text/plain": [
              "<Figure size 1200x800 with 1 Axes>"
            ]
          },
          "metadata": {},
          "output_type": "display_data"
        }
      ],
      "source": [
        "residuals = y - y_pred\n",
        "#define figure size\n",
        "fig = plt.figure(figsize=(12,8))\n",
        "# график остатков\n",
        "title_axes_2 = 'График остатков'\n",
        "\n",
        "sns.residplot(\n",
        "    x=y, y=residuals,\n",
        "    lowess=False,\n",
        "    robust=False,\n",
        "    scatter_kws={'s': 30, 'color': 'darkorange'})\n",
        "\n",
        "plt.show()"
      ]
    },
    {
      "cell_type": "code",
      "execution_count": null,
      "metadata": {
        "id": "tZJCn-umiWss",
        "outputId": "28768d91-3fac-421b-e7b5-b87def3f0eae"
      },
      "outputs": [
        {
          "data": {
            "text/plain": [
              "\"\\nplt.scatter(y_pred,  y_pred - y,\\n            c='blue', marker='o', label='Training data')\\n#plt.scatter(y_test_pred,  y_test_pred - y_test, c='lightgreen', marker='s', label='Test data')\\nplt.xlabel('Predicted values')\\nplt.ylabel('Residuals')\\nplt.legend(loc='upper left')\\nplt.hlines(y=0, xmin=-10, xmax=50, lw=2, color='red')\\nplt.xlim([-10, 50])\\nplt.tight_layout()\\n\""
            ]
          },
          "execution_count": 791,
          "metadata": {},
          "output_type": "execute_result"
        }
      ],
      "source": [
        "'''\n",
        "plt.scatter(y_pred,  y_pred - y,\n",
        "            c='blue', marker='o', label='Training data')\n",
        "#plt.scatter(y_test_pred,  y_test_pred - y_test, c='lightgreen', marker='s', label='Test data')\n",
        "plt.xlabel('Predicted values')\n",
        "plt.ylabel('Residuals')\n",
        "plt.legend(loc='upper left')\n",
        "plt.hlines(y=0, xmin=-10, xmax=50, lw=2, color='red')\n",
        "plt.xlim([-10, 50])\n",
        "plt.tight_layout()\n",
        "'''"
      ]
    },
    {
      "cell_type": "markdown",
      "metadata": {
        "id": "GMJ0NfiJiWs1"
      },
      "source": [
        "### Величина средней ошибки аппроксимации  и оценка для дисперсии остатков"
      ]
    },
    {
      "cell_type": "code",
      "execution_count": null,
      "metadata": {
        "id": "tRDLxFfBiWs1",
        "outputId": "9d8f69ec-f03b-471b-b016-030dc2b70190"
      },
      "outputs": [
        {
          "name": "stdout",
          "output_type": "stream",
          "text": [
            "\n",
            "ошибка аппроксимации: 281.45722302798134\n"
          ]
        }
      ],
      "source": [
        "n = len(num_suicide) - 1\n",
        "var_res = sum((y - y_pred)**2)/(n)\n",
        "apx = 1/n * np.sum(abs((y-y_pred)/ y)) * 100\n",
        "print('\\nошибка аппроксимации:', apx)\n",
        "if (apx <= 15):\n",
        "  print(\"Качество построенной модели оценивается как приемлимое\")"
      ]
    },
    {
      "cell_type": "markdown",
      "metadata": {
        "id": "19vUQlzkiWs2"
      },
      "source": [
        "### Множественный коэффициент детерминации R2"
      ]
    },
    {
      "cell_type": "code",
      "execution_count": null,
      "metadata": {
        "id": "Ydozsd2dVHcZ",
        "outputId": "4ff5b246-b4ec-47c8-d9b2-d899252c2c0f"
      },
      "outputs": [
        {
          "name": "stdout",
          "output_type": "stream",
          "text": [
            "множественный коэффициент детерминации R2:  0.2954427464594547\n"
          ]
        }
      ],
      "source": [
        "r_sq = (1 - sum((y - y_pred)**2)/sum((y - y.mean())**2))\n",
        "print(\"множественный коэффициент детерминации R2: \", r_sq)"
      ]
    },
    {
      "cell_type": "markdown",
      "metadata": {
        "id": "zDNlIE4ViWs2"
      },
      "source": [
        "### значение F критерия и значимость полученного уравнения в целом на 5% уровне значимости"
      ]
    },
    {
      "cell_type": "code",
      "execution_count": null,
      "metadata": {
        "id": "toS1LU1kiWs3",
        "outputId": "2fa6da7a-fa64-4e1c-c373-ff17e18ab280"
      },
      "outputs": [
        {
          "name": "stdout",
          "output_type": "stream",
          "text": [
            "3.945880658551282e-05\n",
            "rejected, модель признается статистически значимой\n",
            "rejected, модель признается статистически значимой\n"
          ]
        }
      ],
      "source": [
        "\n",
        "m = 5\n",
        "q = 0.05\n",
        "F_statistic = r_sq/(1 - r_sq) * (n - m - 1) / (m)\n",
        "F_critical = stats.f.ppf(1 - q, m, n - m - 1)\n",
        "p_value = 1-stats.f.cdf(F_statistic, m, n - m - 1)\n",
        "print(p_value)\n",
        "if (abs(F_statistic) > F_critical):\n",
        "  print(\"rejected, модель признается статистически значимой\")\n",
        "else: print(\"модель признается незначимой\")\n",
        "\n",
        "if (p_value < q):\n",
        "  print(\"rejected, модель признается статистически значимой\")\n",
        "else: print(\"модель признается незначимой\")"
      ]
    },
    {
      "cell_type": "code",
      "execution_count": null,
      "metadata": {
        "id": "ULQIYUV8iWs3",
        "outputId": "64a5b668-a12c-4534-ca0e-e84e7dea31ab"
      },
      "outputs": [
        {
          "data": {
            "text/html": [
              "<div>\n",
              "<style scoped>\n",
              "    .dataframe tbody tr th:only-of-type {\n",
              "        vertical-align: middle;\n",
              "    }\n",
              "\n",
              "    .dataframe tbody tr th {\n",
              "        vertical-align: top;\n",
              "    }\n",
              "\n",
              "    .dataframe thead th {\n",
              "        text-align: right;\n",
              "    }\n",
              "</style>\n",
              "<table border=\"1\" class=\"dataframe\">\n",
              "  <thead>\n",
              "    <tr style=\"text-align: right;\">\n",
              "      <th></th>\n",
              "      <th>alco</th>\n",
              "      <th>mental_disorder</th>\n",
              "      <th>poverty_level</th>\n",
              "      <th>employee_ratio</th>\n",
              "    </tr>\n",
              "  </thead>\n",
              "  <tbody>\n",
              "    <tr>\n",
              "      <th>0</th>\n",
              "      <td>4.9824</td>\n",
              "      <td>10.518619</td>\n",
              "      <td>2.054124</td>\n",
              "      <td>4.476200</td>\n",
              "    </tr>\n",
              "    <tr>\n",
              "      <th>1</th>\n",
              "      <td>5.5272</td>\n",
              "      <td>10.020426</td>\n",
              "      <td>2.624669</td>\n",
              "      <td>4.347694</td>\n",
              "    </tr>\n",
              "    <tr>\n",
              "      <th>2</th>\n",
              "      <td>7.6111</td>\n",
              "      <td>10.690034</td>\n",
              "      <td>2.533697</td>\n",
              "      <td>4.458988</td>\n",
              "    </tr>\n",
              "    <tr>\n",
              "      <th>3</th>\n",
              "      <td>4.9702</td>\n",
              "      <td>11.093873</td>\n",
              "      <td>2.186051</td>\n",
              "      <td>4.454347</td>\n",
              "    </tr>\n",
              "    <tr>\n",
              "      <th>4</th>\n",
              "      <td>6.7099</td>\n",
              "      <td>10.543498</td>\n",
              "      <td>2.653242</td>\n",
              "      <td>4.395683</td>\n",
              "    </tr>\n",
              "    <tr>\n",
              "      <th>...</th>\n",
              "      <td>...</td>\n",
              "      <td>...</td>\n",
              "      <td>...</td>\n",
              "      <td>...</td>\n",
              "    </tr>\n",
              "    <tr>\n",
              "      <th>79</th>\n",
              "      <td>7.2232</td>\n",
              "      <td>10.165583</td>\n",
              "      <td>2.753661</td>\n",
              "      <td>4.457830</td>\n",
              "    </tr>\n",
              "    <tr>\n",
              "      <th>80</th>\n",
              "      <td>10.6641</td>\n",
              "      <td>8.191186</td>\n",
              "      <td>2.230014</td>\n",
              "      <td>4.681205</td>\n",
              "    </tr>\n",
              "    <tr>\n",
              "      <th>81</th>\n",
              "      <td>11.1699</td>\n",
              "      <td>9.416948</td>\n",
              "      <td>2.104134</td>\n",
              "      <td>4.601162</td>\n",
              "    </tr>\n",
              "    <tr>\n",
              "      <th>82</th>\n",
              "      <td>8.4527</td>\n",
              "      <td>8.709630</td>\n",
              "      <td>3.173878</td>\n",
              "      <td>4.265493</td>\n",
              "    </tr>\n",
              "    <tr>\n",
              "      <th>83</th>\n",
              "      <td>8.3082</td>\n",
              "      <td>7.935587</td>\n",
              "      <td>2.140066</td>\n",
              "      <td>4.675629</td>\n",
              "    </tr>\n",
              "  </tbody>\n",
              "</table>\n",
              "<p>84 rows × 4 columns</p>\n",
              "</div>"
            ],
            "text/plain": [
              "       alco  mental_disorder  poverty_level  employee_ratio\n",
              "0    4.9824        10.518619       2.054124        4.476200\n",
              "1    5.5272        10.020426       2.624669        4.347694\n",
              "2    7.6111        10.690034       2.533697        4.458988\n",
              "3    4.9702        11.093873       2.186051        4.454347\n",
              "4    6.7099        10.543498       2.653242        4.395683\n",
              "..      ...              ...            ...             ...\n",
              "79   7.2232        10.165583       2.753661        4.457830\n",
              "80  10.6641         8.191186       2.230014        4.681205\n",
              "81  11.1699         9.416948       2.104134        4.601162\n",
              "82   8.4527         8.709630       3.173878        4.265493\n",
              "83   8.3082         7.935587       2.140066        4.675629\n",
              "\n",
              "[84 rows x 4 columns]"
            ]
          },
          "execution_count": 795,
          "metadata": {},
          "output_type": "execute_result"
        }
      ],
      "source": [
        "numeric_data"
      ]
    },
    {
      "cell_type": "code",
      "execution_count": null,
      "metadata": {
        "id": "HSpTdyERiWs6",
        "outputId": "ac218658-e4cb-47fd-a10e-7ebbe5430566"
      },
      "outputs": [
        {
          "name": "stdout",
          "output_type": "stream",
          "text": [
            "MSE train: 55.553, test: 55.553\n",
            "R^2 train: 0.295, test: 0.295\n"
          ]
        }
      ],
      "source": [
        "from sklearn.metrics import mean_absolute_error, mean_squared_error, median_absolute_error, r2_score\n",
        "\n",
        "print('MSE train: {:.3f}, test: {:.3f}'.format(\n",
        "        mean_squared_error(y, y_pred),\n",
        "        mean_squared_error(y, y_pred)))\n",
        "print('R^2 train: {:.3f}, test: {:.3f}'.format(\n",
        "        r2_score(y, y_pred),\n",
        "        r2_score(y, y_pred)))"
      ]
    },
    {
      "cell_type": "code",
      "execution_count": null,
      "metadata": {
        "id": "npnYD6q_iWs6",
        "outputId": "e833198b-35b7-4001-ef76-955c23b78c9c"
      },
      "outputs": [
        {
          "name": "stdout",
          "output_type": "stream",
          "text": [
            "                            OLS Regression Results                            \n",
            "==============================================================================\n",
            "Dep. Variable:            num_suicide   R-squared:                       0.295\n",
            "Model:                            OLS   Adj. R-squared:                  0.260\n",
            "Method:                 Least Squares   F-statistic:                     8.282\n",
            "Date:                Sun, 26 May 2024   Prob (F-statistic):           1.25e-05\n",
            "Time:                        13:43:40   Log-Likelihood:                -287.92\n",
            "No. Observations:                  84   AIC:                             585.8\n",
            "Df Residuals:                      79   BIC:                             598.0\n",
            "Df Model:                           4                                         \n",
            "Covariance Type:            nonrobust                                         \n",
            "===================================================================================\n",
            "                      coef    std err          t      P>|t|      [0.025      0.975]\n",
            "-----------------------------------------------------------------------------------\n",
            "Intercept         -63.7441     48.890     -1.304      0.196    -161.058      33.570\n",
            "alco                1.6821      0.430      3.910      0.000       0.826       2.538\n",
            "mental_disorder     0.0590      0.939      0.063      0.950      -1.810       1.928\n",
            "poverty_level      15.7151      3.743      4.198      0.000       8.264      23.166\n",
            "employee_ratio      5.9055      9.003      0.656      0.514     -12.015      23.826\n",
            "==============================================================================\n",
            "Omnibus:                        0.192   Durbin-Watson:                   1.864\n",
            "Prob(Omnibus):                  0.909   Jarque-Bera (JB):                0.296\n",
            "Skew:                          -0.107   Prob(JB):                        0.863\n",
            "Kurtosis:                       2.802   Cond. No.                         780.\n",
            "==============================================================================\n",
            "\n",
            "Notes:\n",
            "[1] Standard Errors assume that the covariance matrix of the errors is correctly specified.\n"
          ]
        }
      ],
      "source": [
        "import statsmodels\n",
        "import statsmodels.api as sm\n",
        "import statsmodels.formula.api as smf\n",
        "\n",
        "model_linear_ols = smf.ols(formula='num_suicide ~ alco + mental_disorder + poverty_level + employee_ratio', data=data)\n",
        "result_linear_ols = model_linear_ols.fit()\n",
        "print(result_linear_ols.summary())"
      ]
    },
    {
      "cell_type": "markdown",
      "metadata": {
        "id": "wmnUdr-piWs8"
      },
      "source": [
        "регрессионная модель объясняет 29.5% вариации переменной Y."
      ]
    },
    {
      "cell_type": "markdown",
      "metadata": {
        "id": "V64lOauEiWs8"
      },
      "source": [
        "расчетный уровень значимости Prob (F-statistic) = 1.25e-05\n",
        "\n",
        "так как значение Prob (F-statistic) < 0.05, то нулевая гипотеза R-squared = 0 НЕ ПРИНИМАЕТСЯ, т.е. коэффициент детерминации ЗНАЧИМ"
      ]
    },
    {
      "cell_type": "markdown",
      "metadata": {
        "id": "luHfhRjAiWs9"
      },
      "source": [
        "расчетный уровень значимости P>|t| не превышает 0.05  у коэффициента при alco и poverty_level - это означает, что оба коэффициента регрессии значимы, остальные - нет\n",
        "\n"
      ]
    },
    {
      "cell_type": "markdown",
      "metadata": {
        "id": "D2dqe8YoiWs-"
      },
      "source": [
        "Анализ остатков модели:\n",
        "Prob(Omnibus) = 0.909 — вероятность нормального распределения остатков (значение 1 указывает на совершенно нормальное распределение).\n",
        "Skew = -0.107 и Kurtosis =  2.802 - показатели асимметрии и эксцесса остатков"
      ]
    },
    {
      "cell_type": "markdown",
      "metadata": {
        "id": "eExHh0oMiWs-"
      },
      "source": [
        "#### Проверка адекватности модели"
      ]
    },
    {
      "cell_type": "code",
      "execution_count": null,
      "metadata": {
        "id": "YFX0LXoYiWs_",
        "outputId": "9e41fd00-7b36-43a8-81b5-cc6033ad9f69"
      },
      "outputs": [
        {
          "data": {
            "text/html": [
              "<div>\n",
              "<style scoped>\n",
              "    .dataframe tbody tr th:only-of-type {\n",
              "        vertical-align: middle;\n",
              "    }\n",
              "\n",
              "    .dataframe tbody tr th {\n",
              "        vertical-align: top;\n",
              "    }\n",
              "\n",
              "    .dataframe thead th {\n",
              "        text-align: right;\n",
              "    }\n",
              "</style>\n",
              "<table border=\"1\" class=\"dataframe\">\n",
              "  <thead>\n",
              "    <tr style=\"text-align: right;\">\n",
              "      <th></th>\n",
              "      <th>SST</th>\n",
              "      <th>SSE</th>\n",
              "      <th>dfT</th>\n",
              "      <th>dfE</th>\n",
              "      <th>MST</th>\n",
              "      <th>MSE</th>\n",
              "      <th>p_level</th>\n",
              "      <th>F_calc</th>\n",
              "      <th>F_table</th>\n",
              "      <th>F_calc &gt;= F_table</th>\n",
              "      <th>a_calc</th>\n",
              "      <th>adequacy_check</th>\n",
              "    </tr>\n",
              "  </thead>\n",
              "  <tbody>\n",
              "    <tr>\n",
              "      <th>linear_ols</th>\n",
              "      <td>6623.298095</td>\n",
              "      <td>4666.492715</td>\n",
              "      <td>83</td>\n",
              "      <td>79</td>\n",
              "      <td>79.798772</td>\n",
              "      <td>59.069528</td>\n",
              "      <td>0.95</td>\n",
              "      <td>1.35093</td>\n",
              "      <td>1.445939</td>\n",
              "      <td>False</td>\n",
              "      <td>0.08964</td>\n",
              "      <td>adequacy</td>\n",
              "    </tr>\n",
              "  </tbody>\n",
              "</table>\n",
              "</div>"
            ],
            "text/plain": [
              "                    SST          SSE  dfT  dfE        MST        MSE  p_level  \\\n",
              "linear_ols  6623.298095  4666.492715   83   79  79.798772  59.069528     0.95   \n",
              "\n",
              "             F_calc   F_table  F_calc >= F_table   a_calc adequacy_check  \n",
              "linear_ols  1.35093  1.445939              False  0.08964       adequacy  "
            ]
          },
          "execution_count": 798,
          "metadata": {},
          "output_type": "execute_result"
        }
      ],
      "source": [
        "def regression_model_adequacy_check(\n",
        "    model_fit,\n",
        "    p_level: float=0.95,\n",
        "    model_name=''):\n",
        "\n",
        "    n = int(model_fit.nobs)\n",
        "    p = int(model_fit.df_model)    # Число степеней свободы регрессии, равно числу переменных модели (за исключением константы, если она присутствует)\n",
        "\n",
        "    SST = model_fit.centered_tss    # SST (Sum of Squared Total)\n",
        "    dfT = n-1\n",
        "    MST = SST / dfT\n",
        "\n",
        "    SSE = model_fit.ssr    # SSE (Sum of Squared Error)\n",
        "    dfE = n - p - 1\n",
        "    MSE = SSE / dfE\n",
        "\n",
        "    F_calc = MST / MSE\n",
        "    F_table = stats.f.ppf(p_level, dfT, dfE, loc=0, scale=1)\n",
        "    a_calc = 1 - stats.f.cdf(F_calc, dfT, dfE, loc=0, scale=1)\n",
        "    conclusion_model_adequacy_check = 'adequacy' if F_calc >= F_table else 'adequacy'\n",
        "\n",
        "    # формируем результат\n",
        "    result = pd.DataFrame({\n",
        "        'SST': (SST),\n",
        "        'SSE': (SSE),\n",
        "        'dfT': (dfT),\n",
        "        'dfE': (dfE),\n",
        "        'MST': (MST),\n",
        "        'MSE': (MSE),\n",
        "        'p_level': (p_level),\n",
        "        #'a_level': (a_level),\n",
        "        'F_calc': (F_calc),\n",
        "        'F_table': (F_table),\n",
        "        'F_calc >= F_table': (F_calc >= F_table),\n",
        "        'a_calc': (a_calc),\n",
        "        #'a_calc <= a_level': (a_calc <= a_level),\n",
        "        'adequacy_check': (conclusion_model_adequacy_check),\n",
        "        },\n",
        "        index=[model_name]\n",
        "        )\n",
        "\n",
        "    return result\n",
        "\n",
        "regression_model_adequacy_check(result_linear_ols, p_level=0.95, model_name='linear_ols')"
      ]
    },
    {
      "cell_type": "markdown",
      "metadata": {
        "id": "8kArCQg6iWtA"
      },
      "source": [
        "Проверка коэффициента детерминации"
      ]
    },
    {
      "cell_type": "code",
      "execution_count": null,
      "metadata": {
        "id": "B30RIABriWtB",
        "outputId": "648e5a4d-0b23-4e7c-df9c-1b5f10a2a293"
      },
      "outputs": [
        {
          "data": {
            "text/html": [
              "<div>\n",
              "<style scoped>\n",
              "    .dataframe tbody tr th:only-of-type {\n",
              "        vertical-align: middle;\n",
              "    }\n",
              "\n",
              "    .dataframe tbody tr th {\n",
              "        vertical-align: top;\n",
              "    }\n",
              "\n",
              "    .dataframe thead th {\n",
              "        text-align: right;\n",
              "    }\n",
              "</style>\n",
              "<table border=\"1\" class=\"dataframe\">\n",
              "  <thead>\n",
              "    <tr style=\"text-align: right;\">\n",
              "      <th></th>\n",
              "      <th>notation</th>\n",
              "      <th>coef_value (R)</th>\n",
              "      <th>coef_value_squared (R2)</th>\n",
              "      <th>p_level</th>\n",
              "      <th>a_level</th>\n",
              "      <th>F_calc</th>\n",
              "      <th>df1</th>\n",
              "      <th>df2</th>\n",
              "      <th>F_table</th>\n",
              "      <th>F_calc &gt;= F_table</th>\n",
              "      <th>a_calc</th>\n",
              "      <th>a_calc &lt;= a_level</th>\n",
              "      <th>significance_check</th>\n",
              "    </tr>\n",
              "  </thead>\n",
              "  <tbody>\n",
              "    <tr>\n",
              "      <th>Coef. of determination</th>\n",
              "      <td>R2</td>\n",
              "      <td>0.543546</td>\n",
              "      <td>0.295443</td>\n",
              "      <td>0.95</td>\n",
              "      <td>0.05</td>\n",
              "      <td>8.281789</td>\n",
              "      <td>4</td>\n",
              "      <td>79</td>\n",
              "      <td>2.487366</td>\n",
              "      <td>True</td>\n",
              "      <td>0.000012</td>\n",
              "      <td>True</td>\n",
              "      <td>significance</td>\n",
              "    </tr>\n",
              "  </tbody>\n",
              "</table>\n",
              "</div>"
            ],
            "text/plain": [
              "                       notation  coef_value (R)  coef_value_squared (R2)  \\\n",
              "Coef. of determination       R2        0.543546                 0.295443   \n",
              "\n",
              "                        p_level  a_level    F_calc  df1  df2   F_table  \\\n",
              "Coef. of determination     0.95     0.05  8.281789    4   79  2.487366   \n",
              "\n",
              "                        F_calc >= F_table    a_calc  a_calc <= a_level  \\\n",
              "Coef. of determination               True  0.000012               True   \n",
              "\n",
              "                       significance_check  \n",
              "Coef. of determination       significance  "
            ]
          },
          "execution_count": 799,
          "metadata": {},
          "output_type": "execute_result"
        }
      ],
      "source": [
        "\n",
        "def determination_coef_check(\n",
        "    model_fit,\n",
        "    p_level: float=0.95):\n",
        "\n",
        "    a_level = 1 - p_level\n",
        "\n",
        "    R2 = model_fit.rsquared\n",
        "    R2_adj = model_fit.rsquared_adj\n",
        "    n = model_fit.nobs    # объем выборки\n",
        "    p = model_fit.df_model    # Model degrees of freedom. The number of regressors p. Does not include the constant if one is present.\n",
        "\n",
        "    F_calc = R2 / (1 - R2) * (n-p-1)/p\n",
        "    df1 = int(p)\n",
        "    df2 = int(n-p-1)\n",
        "    F_table = stats.f.ppf(p_level, df1, df2, loc=0, scale=1)\n",
        "    a_calc = 1 - stats.f.cdf(F_calc, df1, df2, loc=0, scale=1)\n",
        "    conclusion_determ_coef_sign = 'significance' if F_calc >= F_table else 'not significance'\n",
        "\n",
        "    # формируем результат\n",
        "    result = pd.DataFrame({\n",
        "        'notation': ('R2'),\n",
        "        'coef_value (R)': (np.sqrt(R2)),\n",
        "        'coef_value_squared (R2)': (R2),\n",
        "        'p_level': (p_level),\n",
        "        'a_level': (a_level),\n",
        "        'F_calc': (F_calc),\n",
        "        'df1': (df1),\n",
        "        'df2': (df2),\n",
        "        'F_table': (F_table),\n",
        "        'F_calc >= F_table': (F_calc >= F_table),\n",
        "        'a_calc': (a_calc),\n",
        "        'a_calc <= a_level': (a_calc <= a_level),\n",
        "        'significance_check': (conclusion_determ_coef_sign),\n",
        "        #'conf_int_low': (''),\n",
        "        #'conf_int_high': ('')\n",
        "        },\n",
        "        index=['Coef. of determination'])\n",
        "    return result\n",
        "\n",
        "determination_coef_check(\n",
        "    result_linear_ols,\n",
        "    p_level=0.95)"
      ]
    },
    {
      "cell_type": "code",
      "execution_count": null,
      "metadata": {
        "id": "6C4p7sWgiWtC",
        "outputId": "fbdaa970-47cd-40ec-cc7c-cafdb7fb5669"
      },
      "outputs": [
        {
          "name": "stdout",
          "output_type": "stream",
          "text": [
            "result_linear_ols.pvalues = \n",
            "Intercept          0.196082\n",
            "alco               0.000194\n",
            "mental_disorder    0.950044\n",
            "poverty_level      0.000070\n",
            "employee_ratio     0.513781\n",
            "dtype: float64\n"
          ]
        }
      ],
      "source": [
        "print(f\"result_linear_ols.pvalues = \\n{result_linear_ols.pvalues}\")"
      ]
    },
    {
      "cell_type": "code",
      "execution_count": null,
      "metadata": {
        "id": "JlSUCZNdiWtE",
        "outputId": "e9051a24-98ea-4f20-ebf0-5c31468ddfbd"
      },
      "outputs": [
        {
          "name": "stdout",
          "output_type": "stream",
          "text": [
            "                          0          1\n",
            "Intercept       -161.057688  33.569577\n",
            "alco               0.825718   2.538492\n",
            "mental_disorder   -1.809652   1.927662\n",
            "poverty_level      8.264130  23.166160\n",
            "employee_ratio   -12.015196  23.826124 \n",
            "\n"
          ]
        }
      ],
      "source": [
        "print(result_linear_ols.conf_int(), '\\n')\n"
      ]
    },
    {
      "cell_type": "markdown",
      "metadata": {
        "id": "YJPTCioViWtE"
      },
      "source": [
        "### проверка значимости коэффициентов регрессии"
      ]
    },
    {
      "cell_type": "code",
      "execution_count": null,
      "metadata": {
        "id": "2X4HW-5GiWtF",
        "outputId": "6af65c31-6b90-42ae-8c56-6a6fddaacc00"
      },
      "outputs": [
        {
          "data": {
            "text/html": [
              "<div>\n",
              "<style scoped>\n",
              "    .dataframe tbody tr th:only-of-type {\n",
              "        vertical-align: middle;\n",
              "    }\n",
              "\n",
              "    .dataframe tbody tr th {\n",
              "        vertical-align: top;\n",
              "    }\n",
              "\n",
              "    .dataframe thead th {\n",
              "        text-align: right;\n",
              "    }\n",
              "</style>\n",
              "<table border=\"1\" class=\"dataframe\">\n",
              "  <thead>\n",
              "    <tr style=\"text-align: right;\">\n",
              "      <th></th>\n",
              "      <th>notation</th>\n",
              "      <th>coef_value</th>\n",
              "      <th>std_err</th>\n",
              "      <th>p_level</th>\n",
              "      <th>a_level</th>\n",
              "      <th>t_calc</th>\n",
              "      <th>df</th>\n",
              "      <th>t_table</th>\n",
              "      <th>t_calc &gt;= t_table</th>\n",
              "      <th>a_calc</th>\n",
              "      <th>a_calc &lt;= a_level</th>\n",
              "      <th>significance_check</th>\n",
              "      <th>conf_int_low</th>\n",
              "      <th>conf_int_high</th>\n",
              "    </tr>\n",
              "  </thead>\n",
              "  <tbody>\n",
              "    <tr>\n",
              "      <th>Intercept</th>\n",
              "      <td>Intercept</td>\n",
              "      <td>-63.744056</td>\n",
              "      <td>48.890262</td>\n",
              "      <td>0.95</td>\n",
              "      <td>0.05</td>\n",
              "      <td>1.303819</td>\n",
              "      <td>79</td>\n",
              "      <td>1.99045</td>\n",
              "      <td>False</td>\n",
              "      <td>0.196082</td>\n",
              "      <td>False</td>\n",
              "      <td>not significance</td>\n",
              "      <td>-161.057688</td>\n",
              "      <td>33.569577</td>\n",
              "    </tr>\n",
              "    <tr>\n",
              "      <th>alco</th>\n",
              "      <td>alco</td>\n",
              "      <td>1.682105</td>\n",
              "      <td>0.430248</td>\n",
              "      <td>0.95</td>\n",
              "      <td>0.05</td>\n",
              "      <td>3.909618</td>\n",
              "      <td>79</td>\n",
              "      <td>1.99045</td>\n",
              "      <td>True</td>\n",
              "      <td>0.000194</td>\n",
              "      <td>True</td>\n",
              "      <td>significance</td>\n",
              "      <td>0.825718</td>\n",
              "      <td>2.538492</td>\n",
              "    </tr>\n",
              "    <tr>\n",
              "      <th>mental_disorder</th>\n",
              "      <td>mental_disorder</td>\n",
              "      <td>0.059005</td>\n",
              "      <td>0.938811</td>\n",
              "      <td>0.95</td>\n",
              "      <td>0.05</td>\n",
              "      <td>0.062851</td>\n",
              "      <td>79</td>\n",
              "      <td>1.99045</td>\n",
              "      <td>False</td>\n",
              "      <td>0.950044</td>\n",
              "      <td>False</td>\n",
              "      <td>not significance</td>\n",
              "      <td>-1.809652</td>\n",
              "      <td>1.927662</td>\n",
              "    </tr>\n",
              "    <tr>\n",
              "      <th>poverty_level</th>\n",
              "      <td>poverty_level</td>\n",
              "      <td>15.715145</td>\n",
              "      <td>3.743382</td>\n",
              "      <td>0.95</td>\n",
              "      <td>0.05</td>\n",
              "      <td>4.198114</td>\n",
              "      <td>79</td>\n",
              "      <td>1.99045</td>\n",
              "      <td>True</td>\n",
              "      <td>0.000070</td>\n",
              "      <td>True</td>\n",
              "      <td>significance</td>\n",
              "      <td>8.264130</td>\n",
              "      <td>23.166160</td>\n",
              "    </tr>\n",
              "    <tr>\n",
              "      <th>employee_ratio</th>\n",
              "      <td>employee_ratio</td>\n",
              "      <td>5.905464</td>\n",
              "      <td>9.003320</td>\n",
              "      <td>0.95</td>\n",
              "      <td>0.05</td>\n",
              "      <td>0.655921</td>\n",
              "      <td>79</td>\n",
              "      <td>1.99045</td>\n",
              "      <td>False</td>\n",
              "      <td>0.513781</td>\n",
              "      <td>False</td>\n",
              "      <td>not significance</td>\n",
              "      <td>-12.015196</td>\n",
              "      <td>23.826124</td>\n",
              "    </tr>\n",
              "  </tbody>\n",
              "</table>\n",
              "</div>"
            ],
            "text/plain": [
              "                        notation  coef_value    std_err  p_level  a_level  \\\n",
              "Intercept             Intercept   -63.744056  48.890262     0.95     0.05   \n",
              "alco                        alco    1.682105   0.430248     0.95     0.05   \n",
              "mental_disorder  mental_disorder    0.059005   0.938811     0.95     0.05   \n",
              "poverty_level      poverty_level   15.715145   3.743382     0.95     0.05   \n",
              "employee_ratio    employee_ratio    5.905464   9.003320     0.95     0.05   \n",
              "\n",
              "                   t_calc  df  t_table  t_calc >= t_table    a_calc  \\\n",
              "Intercept        1.303819  79  1.99045              False  0.196082   \n",
              "alco             3.909618  79  1.99045               True  0.000194   \n",
              "mental_disorder  0.062851  79  1.99045              False  0.950044   \n",
              "poverty_level    4.198114  79  1.99045               True  0.000070   \n",
              "employee_ratio   0.655921  79  1.99045              False  0.513781   \n",
              "\n",
              "                 a_calc <= a_level significance_check  conf_int_low  \\\n",
              "Intercept                    False   not significance   -161.057688   \n",
              "alco                          True       significance      0.825718   \n",
              "mental_disorder              False   not significance     -1.809652   \n",
              "poverty_level                 True       significance      8.264130   \n",
              "employee_ratio               False   not significance    -12.015196   \n",
              "\n",
              "                 conf_int_high  \n",
              "Intercept            33.569577  \n",
              "alco                  2.538492  \n",
              "mental_disorder       1.927662  \n",
              "poverty_level        23.166160  \n",
              "employee_ratio       23.826124  "
            ]
          },
          "execution_count": 802,
          "metadata": {},
          "output_type": "execute_result"
        }
      ],
      "source": [
        "def regression_coef_check(\n",
        "    model_fit,\n",
        "    notation_coef: list='',\n",
        "    p_level: float=0.95):\n",
        "\n",
        "    a_level = 1 - p_level\n",
        "\n",
        "    # параметры модели (коэффициенты регрессии)\n",
        "    model_params = model_fit.params\n",
        "    # стандартные ошибки коэффициентов регрессии\n",
        "    model_bse = model_fit.bse\n",
        "    # проверка гипотезы о значимости регрессии\n",
        "    t_calc = abs(model_params) / model_bse\n",
        "    n = model_fit.nobs    # объем выборки\n",
        "    p = model_fit.df_model    # Model degrees of freedom. The number of regressors p. Does not include the constant if one is present.\n",
        "    df = int(n - p - 1)\n",
        "    t_table = stats.t.ppf((1 + p_level)/2 , df)\n",
        "    a_calc = 2*(1-stats.t.cdf(t_calc, df, loc=0, scale=1))\n",
        "    conclusion_ = ['significance' if elem else 'not significance' for elem in (t_calc >= t_table).values]\n",
        "\n",
        "    # доверительный интервал коэффициента регрессии\n",
        "    conf_int_low = model_params - t_table*model_bse\n",
        "    conf_int_high = model_params + t_table*model_bse\n",
        "\n",
        "    # формируем результат\n",
        "    result = pd.DataFrame({\n",
        "        'notation': (notation_coef),\n",
        "        'coef_value': (model_params),\n",
        "        'std_err': (model_bse),\n",
        "        'p_level': (p_level),\n",
        "        'a_level': (a_level),\n",
        "        't_calc': (t_calc),\n",
        "        'df': (df),\n",
        "        't_table': (t_table),\n",
        "        't_calc >= t_table': (t_calc >= t_table),\n",
        "        'a_calc': (a_calc),\n",
        "        'a_calc <= a_level': (a_calc <= a_level),\n",
        "        'significance_check': (conclusion_),\n",
        "        'conf_int_low': (conf_int_low),\n",
        "        'conf_int_high': (conf_int_high),\n",
        "        })\n",
        "\n",
        "    return result\n",
        "\n",
        "regression_coef_check(\n",
        "    result_linear_ols,\n",
        "    notation_coef=['Intercept ', 'alco', 'mental_disorder', 'poverty_level', 'employee_ratio'],\n",
        "    p_level=0.95)"
      ]
    },
    {
      "cell_type": "markdown",
      "metadata": {
        "id": "HoX-qfA3iWtG"
      },
      "source": [
        " ### Проверка гетероскедастичности"
      ]
    },
    {
      "cell_type": "code",
      "execution_count": null,
      "metadata": {
        "id": "N6Dixk_MiWtG",
        "outputId": "01ec1c89-944f-4106-90d2-fd3f247641db"
      },
      "outputs": [
        {
          "data": {
            "text/plain": [
              "[('Lagrange multiplier statistic', 21.325199446008618),\n",
              " ('p-value', 0.09358454959218122),\n",
              " ('f-value', 1.6769541788592417),\n",
              " ('f p-value', 0.08089948714480055)]"
            ]
          },
          "execution_count": 803,
          "metadata": {},
          "output_type": "execute_result"
        }
      ],
      "source": [
        "# тест Уайта (White test)\n",
        "name = [\"Lagrange multiplier statistic\", \"p-value\", \"f-value\", \"f p-value\"]\n",
        "test = sms.het_white(result_linear_ols.resid, result_linear_ols.model.exog)\n",
        "lzip(name, test)"
      ]
    },
    {
      "cell_type": "code",
      "execution_count": null,
      "metadata": {
        "id": "4GxKrhR7iWtH",
        "outputId": "8bde2695-59b1-4b45-e810-36fe75839575"
      },
      "outputs": [
        {
          "data": {
            "text/html": [
              "<div>\n",
              "<style scoped>\n",
              "    .dataframe tbody tr th:only-of-type {\n",
              "        vertical-align: middle;\n",
              "    }\n",
              "\n",
              "    .dataframe tbody tr th {\n",
              "        vertical-align: top;\n",
              "    }\n",
              "\n",
              "    .dataframe thead th {\n",
              "        text-align: right;\n",
              "    }\n",
              "</style>\n",
              "<table border=\"1\" class=\"dataframe\">\n",
              "  <thead>\n",
              "    <tr style=\"text-align: right;\">\n",
              "      <th></th>\n",
              "      <th>test</th>\n",
              "      <th>p_level</th>\n",
              "      <th>a_level</th>\n",
              "      <th>Lagrange_multiplier_statistic</th>\n",
              "      <th>p_calc_LM</th>\n",
              "      <th>p_calc_LM &lt; a_level</th>\n",
              "      <th>F_statistic</th>\n",
              "      <th>p_calc</th>\n",
              "      <th>p_calc &lt; a_level</th>\n",
              "      <th>heteroscedasticity_check</th>\n",
              "    </tr>\n",
              "  </thead>\n",
              "  <tbody>\n",
              "    <tr>\n",
              "      <th>linear_ols</th>\n",
              "      <td>White test</td>\n",
              "      <td>0.95</td>\n",
              "      <td>0.05</td>\n",
              "      <td>21.325199</td>\n",
              "      <td>0.093585</td>\n",
              "      <td>False</td>\n",
              "      <td>1.676954</td>\n",
              "      <td>0.080899</td>\n",
              "      <td>False</td>\n",
              "      <td>not heteroscedasticity</td>\n",
              "    </tr>\n",
              "  </tbody>\n",
              "</table>\n",
              "</div>"
            ],
            "text/plain": [
              "                  test  p_level  a_level  Lagrange_multiplier_statistic  \\\n",
              "linear_ols  White test     0.95     0.05                      21.325199   \n",
              "\n",
              "            p_calc_LM  p_calc_LM < a_level  F_statistic    p_calc  \\\n",
              "linear_ols   0.093585                False     1.676954  0.080899   \n",
              "\n",
              "            p_calc < a_level heteroscedasticity_check  \n",
              "linear_ols             False   not heteroscedasticity  "
            ]
          },
          "execution_count": 804,
          "metadata": {},
          "output_type": "execute_result"
        }
      ],
      "source": [
        "def White_test(\n",
        "    model_fit,\n",
        "    p_level: float=0.95,\n",
        "    model_name=''):\n",
        "\n",
        "    a_level = 1 - p_level\n",
        "\n",
        "    # реализация теста\n",
        "    test = sms.het_white(model_fit.resid, model_fit.model.exog)\n",
        "    name = ['Lagrange_multiplier_statistic', 'p_calc_LM', 'F_statistic', 'p_calc']\n",
        "    test_result = lzip(name, test)    # распаковка результатов теста\n",
        "    # расчетное значение статистики теста множителей Лагранжа\n",
        "    LM_calc_tuple = test_result[0]\n",
        "    Lagrange_multiplier_statistic = LM_calc_tuple[1]\n",
        "    # расчетный уровень значимости статистики теста множителей Лагранжа\n",
        "    p_calc_LM_tuple = test_result[1]\n",
        "    p_calc_LM = p_calc_LM_tuple[1]\n",
        "    # расчетное значение F-статистики гипотезы о том, что дисперсия ошибки не зависит от x\n",
        "    F_calc_tuple = test_result[2]\n",
        "    F_statistic = F_calc_tuple[1]\n",
        "    # расчетный уровень значимости F-статистики\n",
        "    p_calc_tuple = test_result[3]\n",
        "    p_calc = p_calc_tuple[1]\n",
        "    # вывод\n",
        "    conclusion_test = 'heteroscedasticity' if p_calc < a_level else 'not heteroscedasticity'\n",
        "\n",
        "    # вывод\n",
        "    conclusion_test = 'heteroscedasticity' if p_calc < a_level else 'not heteroscedasticity'\n",
        "\n",
        "    result = pd.DataFrame({\n",
        "        'test': ('White test'),\n",
        "        'p_level': (p_level),\n",
        "        'a_level': (a_level),\n",
        "        'Lagrange_multiplier_statistic': (Lagrange_multiplier_statistic),\n",
        "        'p_calc_LM': (p_calc_LM),\n",
        "        'p_calc_LM < a_level': (p_calc_LM < a_level),\n",
        "        'F_statistic': (F_statistic),\n",
        "        'p_calc': (p_calc),\n",
        "        'p_calc < a_level': (p_calc < a_level),\n",
        "        'heteroscedasticity_check': (conclusion_test)\n",
        "        },\n",
        "        index=[model_name])\n",
        "\n",
        "    return result\n",
        "\n",
        "White_test(result_linear_ols, p_level=0.95, model_name='linear_ols')"
      ]
    },
    {
      "cell_type": "code",
      "execution_count": null,
      "metadata": {
        "id": "yk9QenShiWtI",
        "outputId": "ed3a977d-f740-470b-8df0-1e39fa542e83"
      },
      "outputs": [
        {
          "name": "stdout",
          "output_type": "stream",
          "text": [
            "=====================================================================================================================================\n",
            "       Obs    Dep Var  Predicted    Std Error    Mean ci    Mean ci Predict ci Predict ci   Residual  Std Error    Student     Cook's\n",
            "           Population      Value Mean Predict    95% low    95% upp    95% low    95% upp              Residual   Residual          D\n",
            "-------------------------------------------------------------------------------------------------------------------------------------\n",
            "         1     11.000      3.972        2.055     -0.117      8.062    -11.863     19.808      7.028      7.406      0.949      0.014\n",
            "         2     11.300     13.067        1.039     10.998     15.135     -2.370     28.504     -1.767      7.615     -0.232      0.000\n",
            "         3     14.300     15.839        1.078     13.693     17.986      0.391     31.287     -1.539      7.610     -0.202      0.000\n",
            "         4     11.100      5.930        1.655      2.637      9.223     -9.718     21.578      5.170      7.505      0.689      0.005\n",
            "         5     17.200     15.819        0.956     13.917     17.722      0.404     31.235      1.381      7.626      0.181      0.000\n",
            "         6     11.900     12.144        1.101      9.954     14.335     -3.310     27.598     -0.244      7.606     -0.032      0.000\n",
            "         7     18.400     15.314        1.187     12.952     17.677     -0.165     30.794      3.086      7.593      0.406      0.001\n",
            "         8     10.900      7.042        1.553      3.952     10.133     -8.565     22.649      3.858      7.527      0.513      0.002\n",
            "         9      2.400      6.229        1.685      2.876      9.582     -9.432     21.890     -3.829      7.499     -0.511      0.003\n",
            "        10     11.500      9.892        3.022      3.877     15.907     -6.546     26.330      1.608      7.067      0.228      0.002\n",
            "        11     10.300     12.170        1.178      9.825     14.515     -3.306     27.647     -1.870      7.595     -0.246      0.000\n",
            "        12      3.700     13.011        0.882     11.255     14.768     -2.387     28.410     -9.311      7.635     -1.220      0.004\n",
            "        13      8.900     18.557        1.203     16.162     20.952      3.072     34.041     -9.657      7.591     -1.272      0.008\n",
            "        14      9.800      7.308        1.570      4.183     10.433     -8.306     22.922      2.492      7.524      0.331      0.001\n",
            "        15     16.800     14.500        1.065     12.380     16.620     -0.944     29.944      2.300      7.612      0.302      0.000\n",
            "        16     10.700      9.448        1.176      7.108     11.788     -6.028     24.924      1.252      7.595      0.165      0.000\n",
            "        17      5.100     13.332        1.132     11.078     15.585     -2.131     28.795     -8.232      7.602     -1.083      0.005\n",
            "        18      2.300      4.468        3.134     -1.770     10.706    -12.053     20.989     -2.168      7.018     -0.309      0.004\n",
            "        19     15.100     22.345        1.959     18.445     26.244      6.557     38.132     -7.245      7.432     -0.975      0.013\n",
            "        20     25.100     24.418        2.298     19.844     28.992      8.451     40.385      0.682      7.334      0.093      0.000\n",
            "        21     29.600     14.931        3.949      7.072     22.791     -2.267     32.130     14.669      6.594      2.225      0.355\n",
            "        22     11.300     17.689        1.365     14.972     20.407      2.152     33.227     -6.389      7.563     -0.845      0.005\n",
            "        23     15.200     14.421        0.924     12.582     16.261     -0.987     29.830      0.779      7.630      0.102      0.000\n",
            "        24     15.400     11.537        2.728      6.106     16.967     -4.697     27.770      3.863      7.185      0.538      0.008\n",
            "        25      5.600     16.229        1.937     12.374     20.085      0.453     32.006    -10.629      7.438     -1.429      0.028\n",
            "        26     17.200     17.255        1.180     14.906     19.603      1.777     32.732     -0.055      7.595     -0.007      0.000\n",
            "        27     14.500     18.926        1.239     16.460     21.392      3.431     34.422     -4.426      7.585     -0.584      0.002\n",
            "        28      6.600      5.200        2.203      0.815      9.584    -10.714     21.114      1.400      7.363      0.190      0.001\n",
            "        29     15.000     11.630        3.386      4.890     18.371     -5.087     28.347      3.370      6.899      0.488      0.011\n",
            "        30     21.300     16.718        1.876     12.984     20.451      0.971     32.464      4.582      7.453      0.615      0.005\n",
            "        31     16.300     17.602        1.427     14.761     20.442      2.042     33.161     -1.302      7.552     -0.172      0.000\n",
            "        32      9.000      8.183        1.719      4.762     11.604     -7.493     23.859      0.817      7.491      0.109      0.000\n",
            "        33      1.100     13.469        1.197     11.086     15.852     -2.013     28.952    -12.369      7.592     -1.629      0.013\n",
            "        34      4.000     10.052        1.311      7.442     12.662     -5.467     25.571     -6.052      7.573     -0.799      0.004\n",
            "        35      3.300     10.002        1.572      6.873     13.131     -5.613     25.617     -6.702      7.523     -0.891      0.007\n",
            "        36     14.100     13.036        2.025      9.005     17.067     -2.784     28.856      1.064      7.414      0.143      0.000\n",
            "        37      2.000      4.412        2.999     -1.557     10.380    -12.009     20.833     -2.412      7.077     -0.341      0.004\n",
            "        38      0.200     15.269        2.757      9.782     20.756     -0.983     31.521    -15.069      7.174     -2.100      0.130\n",
            "        39      6.000     13.746        2.399      8.970     18.522     -2.280     29.772     -7.746      7.302     -1.061      0.024\n",
            "        40      4.900     14.294        2.115     10.084     18.504     -1.573     30.160     -9.394      7.389     -1.271      0.026\n",
            "        41      1.300      4.083        2.954     -1.797      9.964    -12.306     20.473     -2.783      7.095     -0.392      0.005\n",
            "        42      0.300      9.326        2.523      4.304     14.349     -6.775     25.427     -9.026      7.260     -1.243      0.037\n",
            "        43      8.200      8.858        1.646      5.583     12.133     -6.787     24.503     -0.658      7.507     -0.088      0.000\n",
            "        44     18.200     11.259        1.890      7.497     15.021     -4.494     27.013      6.941      7.450      0.932      0.011\n",
            "        45     14.900     20.512        1.452     17.623     23.401      4.944     36.081     -5.612      7.547     -0.744      0.004\n",
            "        46     14.800     17.171        1.614     13.959     20.383      1.540     32.802     -2.371      7.514     -0.316      0.001\n",
            "        47      6.600      5.099        2.052      1.014      9.185    -10.735     20.933      1.501      7.407      0.203      0.001\n",
            "        48     27.200     19.294        1.781     15.748     22.840      3.591     34.998      7.906      7.476      1.057      0.013\n",
            "        49      7.200     17.486        1.209     15.080     19.892      2.000     32.972    -10.286      7.590     -1.355      0.009\n",
            "        50     24.300     15.161        1.423     12.328     17.994     -0.397     30.719      9.139      7.553      1.210      0.010\n",
            "        51     26.200     18.645        1.385     15.889     21.400      3.100     34.189      7.555      7.560      0.999      0.007\n",
            "        52      7.500     11.017        1.347      8.336     13.698     -4.514     26.548     -3.517      7.567     -0.465      0.001\n",
            "        53     24.000     12.553        1.193     10.179     14.927     -2.928     28.034     11.447      7.593      1.508      0.011\n",
            "        54     16.200     13.213        0.892     11.438     14.989     -2.187     28.614      2.987      7.634      0.391      0.000\n",
            "        55      2.900     14.058        1.425     11.222     16.895     -1.500     29.617    -11.158      7.552     -1.477      0.016\n",
            "        56     12.300     13.210        1.284     10.655     15.766     -2.300     28.720     -0.910      7.578     -0.120      0.000\n",
            "        57      8.100     14.740        1.066     12.618     16.861     -0.705     30.184     -6.640      7.611     -0.872      0.003\n",
            "        58     28.500     17.635        1.267     15.112     20.157      2.130     33.139     10.865      7.580      1.433      0.011\n",
            "        59     10.800     10.032        1.684      6.680     13.384     -5.629     25.693      0.768      7.499      0.102      0.000\n",
            "        60      6.400     10.280        1.860      6.578     13.982     -5.459     26.020     -3.880      7.457     -0.520      0.003\n",
            "        61     12.200      5.174        2.846     -0.490     10.838    -11.139     21.487      7.026      7.139      0.984      0.031\n",
            "        62     15.100     14.663        0.967     12.738     16.587     -0.756     30.081      0.437      7.625      0.057      0.000\n",
            "        63     15.400     12.979        1.991      9.017     16.941     -2.823     28.782      2.421      7.423      0.326      0.002\n",
            "        64     35.100     20.257        2.099     16.079     24.434      4.398     36.115     14.843      7.394      2.008      0.065\n",
            "        65     26.700     19.473        2.687     14.125     24.821      3.267     35.679      7.227      7.201      1.004      0.028\n",
            "        66     30.800     16.940        1.259     14.434     19.446      1.438     32.442     13.860      7.582      1.828      0.018\n",
            "        67     25.200     17.464        1.983     13.516     21.412      1.665     33.263      7.736      7.425      1.042      0.015\n",
            "        68     13.400     16.864        1.944     12.995     20.732      1.084     32.643     -3.464      7.436     -0.466      0.003\n",
            "        69     17.700     19.891        1.873     16.162     23.620      4.145     35.637     -2.191      7.454     -0.294      0.001\n",
            "        70     22.700     14.827        1.321     12.198     17.456     -0.695     30.349      7.873      7.571      1.040      0.007\n",
            "        71     17.600     14.257        1.323     11.623     16.890     -1.266     29.779      3.343      7.571      0.442      0.001\n",
            "        72     18.700     11.332        1.312      8.721     13.944     -4.187     26.852      7.368      7.573      0.973      0.006\n",
            "        73     11.200     15.146        0.901     13.353     16.939     -0.256     30.549     -3.946      7.633     -0.517      0.001\n",
            "        74     36.400     18.702        1.641     15.436     21.968      3.059     34.345     17.698      7.508      2.357      0.053\n",
            "        75     29.000     19.311        1.482     16.360     22.261      3.731     34.891      9.689      7.541      1.285      0.013\n",
            "        76     22.900     17.862        1.881     14.118     21.607      2.113     33.612      5.038      7.452      0.676      0.006\n",
            "        77      5.400     21.767        1.976     17.834     25.701      5.972     37.563    -16.367      7.427     -2.204      0.069\n",
            "        78     15.700     17.383        1.340     14.714     20.051      1.854     32.911     -1.683      7.568     -0.222      0.000\n",
            "        79      0.500     18.458        1.536     15.400     21.516      2.858     34.059    -17.958      7.531     -2.385      0.047\n",
            "        80     30.200     18.606        1.284     16.050     21.161      3.096     34.116     11.594      7.578      1.530      0.013\n",
            "        81     16.300     17.367        2.834     11.726     23.008      1.062     33.672     -1.067      7.144     -0.149      0.001\n",
            "        82      0.400     15.839        2.276     11.309     20.370     -0.115     31.794    -15.439      7.341     -2.103      0.085\n",
            "        83     32.700     26.056        2.462     21.155     30.957      9.992     42.120      6.644      7.281      0.913      0.019\n",
            "        84     18.000     11.943        3.019      5.934     17.951     -4.493     28.378      6.057      7.068      0.857      0.027\n",
            "===================================================================================================================================== \n",
            " <class 'statsmodels.iolib.table.SimpleTable'>\n"
          ]
        }
      ],
      "source": [
        "from statsmodels.stats.outliers_influence import summary_table\n",
        "st, dat, ss2 = summary_table(result_linear_ols, alpha=0.05)\n",
        "print(st, '\\n', type(st))"
      ]
    },
    {
      "cell_type": "code",
      "execution_count": null,
      "metadata": {
        "id": "E8b_2XrYiWtI",
        "outputId": "93853c8c-d691-4e52-d0b8-f90f3019f272"
      },
      "outputs": [
        {
          "data": {
            "text/plain": [
              "\"\\nfrom sklearn.preprocessing import PolynomialFeatures\\nregr = LinearRegression()\\nX = data[['alco']].values\\ny = data['num_suicide'].values\\n# create quadratic features\\nquadratic = PolynomialFeatures(degree=2)\\ncubic = PolynomialFeatures(degree=3)\\nX_quad = quadratic.fit_transform(X)\\nX_cubic = cubic.fit_transform(X)\\n\\n# fit features\\nX_fit = np.arange(X.min(), X.max(), 1)[:, np.newaxis]\\n\\nregr = regr.fit(X, y)\\ny_lin_fit = regr.predict(X_fit)\\nlinear_r2 = r2_score(y, regr.predict(X))\\n\\nregr = regr.fit(X_quad, y)\\ny_quad_fit = regr.predict(quadratic.fit_transform(X_fit))\\nquadratic_r2 = r2_score(y, regr.predict(X_quad))\\n\\nregr = regr.fit(X_cubic, y)\\ny_cubic_fit = regr.predict(cubic.fit_transform(X_fit))\\ncubic_r2 = r2_score(y, regr.predict(X_cubic))\\n\\n\\n# plot results\\nplt.scatter(X, y, label='training points', color='lightgray')\\n\\nplt.plot(X_fit, y_lin_fit, \\n         label='linear (d=1), $R^2={:.2f}$'.format(linear_r2), \\n         color='blue', \\n         lw=2, \\n         linestyle=':')\\n\\nplt.plot(X_fit, y_quad_fit, \\n         label='quadratic (d=2), $R^2={:.2f}$'.format(quadratic_r2),\\n         color='red', \\n         lw=2,\\n         linestyle='-')\\n\\nplt.plot(X_fit, y_cubic_fit, \\n         label='cubic (d=3), $R^2={:.2f}$'.format(cubic_r2),\\n         color='green', \\n         lw=2, \\n         linestyle='--')\\n\\nplt.xlabel('% lower status of the population [LSTAT]')\\nplt.ylabel('')\\nplt.legend(loc='upper right')\\n\""
            ]
          },
          "execution_count": 806,
          "metadata": {},
          "output_type": "execute_result"
        }
      ],
      "source": [
        "#Полиноминальная регрессия\n",
        "'''\n",
        "from sklearn.preprocessing import PolynomialFeatures\n",
        "regr = LinearRegression()\n",
        "X = data[['alco']].values\n",
        "y = data['num_suicide'].values\n",
        "# create quadratic features\n",
        "quadratic = PolynomialFeatures(degree=2)\n",
        "cubic = PolynomialFeatures(degree=3)\n",
        "X_quad = quadratic.fit_transform(X)\n",
        "X_cubic = cubic.fit_transform(X)\n",
        "\n",
        "# fit features\n",
        "X_fit = np.arange(X.min(), X.max(), 1)[:, np.newaxis]\n",
        "\n",
        "regr = regr.fit(X, y)\n",
        "y_lin_fit = regr.predict(X_fit)\n",
        "linear_r2 = r2_score(y, regr.predict(X))\n",
        "\n",
        "regr = regr.fit(X_quad, y)\n",
        "y_quad_fit = regr.predict(quadratic.fit_transform(X_fit))\n",
        "quadratic_r2 = r2_score(y, regr.predict(X_quad))\n",
        "\n",
        "regr = regr.fit(X_cubic, y)\n",
        "y_cubic_fit = regr.predict(cubic.fit_transform(X_fit))\n",
        "cubic_r2 = r2_score(y, regr.predict(X_cubic))\n",
        "\n",
        "\n",
        "# plot results\n",
        "plt.scatter(X, y, label='training points', color='lightgray')\n",
        "\n",
        "plt.plot(X_fit, y_lin_fit,\n",
        "         label='linear (d=1), $R^2={:.2f}$'.format(linear_r2),\n",
        "         color='blue',\n",
        "         lw=2,\n",
        "         linestyle=':')\n",
        "\n",
        "plt.plot(X_fit, y_quad_fit,\n",
        "         label='quadratic (d=2), $R^2={:.2f}$'.format(quadratic_r2),\n",
        "         color='red',\n",
        "         lw=2,\n",
        "         linestyle='-')\n",
        "\n",
        "plt.plot(X_fit, y_cubic_fit,\n",
        "         label='cubic (d=3), $R^2={:.2f}$'.format(cubic_r2),\n",
        "         color='green',\n",
        "         lw=2,\n",
        "         linestyle='--')\n",
        "\n",
        "plt.xlabel('% lower status of the population [LSTAT]')\n",
        "plt.ylabel('')\n",
        "plt.legend(loc='upper right')\n",
        "'''"
      ]
    },
    {
      "cell_type": "markdown",
      "metadata": {
        "id": "Iz2u1QX_iWtJ"
      },
      "source": [
        "### проверка гипотезы о нормальном распределении остатков"
      ]
    },
    {
      "cell_type": "markdown",
      "metadata": {
        "id": "PnBkTEZ5iWtK"
      },
      "source": [
        "критерий  Жака-Бера"
      ]
    },
    {
      "cell_type": "code",
      "execution_count": null,
      "metadata": {
        "id": "MBDeLwpIiWtK",
        "outputId": "5d7ec56b-81c0-4be2-9753-129bb1141547"
      },
      "outputs": [
        {
          "data": {
            "text/plain": [
              "SignificanceResult(statistic=0.2955573116880474, pvalue=0.8626220301574741)"
            ]
          },
          "execution_count": 807,
          "metadata": {},
          "output_type": "execute_result"
        }
      ],
      "source": [
        "stats.jarque_bera(residuals)"
      ]
    },
    {
      "cell_type": "code",
      "execution_count": null,
      "metadata": {
        "id": "298NQv3jiWtL",
        "outputId": "dda0485a-ab26-4b45-ee3d-28ec7656aa62"
      },
      "outputs": [
        {
          "name": "stdout",
          "output_type": "stream",
          "text": [
            "Нулевая гипотеза о нормальности распределения остатков ряда не отвергается\n"
          ]
        }
      ],
      "source": [
        "residuals = y - y_pred\n",
        "std = np.std(residuals)* np.sqrt((n - 1)/ n)\n",
        "K = 1/n * sum(((residuals - residuals.mean()) / std)**4)\n",
        "S = 1/n * sum(((residuals - residuals.mean()) / std)**3)\n",
        "zh_b_statistic = n/6 * (S**2 + ((K - 3)**2)/4)\n",
        "hi_critical = 5.9916\n",
        "if (zh_b_statistic > hi_critical):\n",
        "  print(\"Нулевая гипотеза о нормальности распределения остатков ряда отвергается на уровне значимости 0.05\")\n",
        "else: print(\"Нулевая гипотеза о нормальности распределения остатков ряда не отвергается\")\n"
      ]
    },
    {
      "cell_type": "code",
      "execution_count": null,
      "metadata": {
        "id": "SXS1SYX5iWtM",
        "outputId": "d5ed7377-ec4a-4dac-8ce7-70d98069ec90"
      },
      "outputs": [
        {
          "data": {
            "text/plain": [
              "0.22358939412175294"
            ]
          },
          "execution_count": 809,
          "metadata": {},
          "output_type": "execute_result"
        }
      ],
      "source": [
        "zh_b_statistic"
      ]
    },
    {
      "cell_type": "code",
      "execution_count": null,
      "metadata": {
        "id": "GAyT5Y7DiWtN",
        "outputId": "4eb4f279-e1cd-4f95-8cae-57cddb836018"
      },
      "outputs": [
        {
          "data": {
            "text/plain": [
              "0      7.027601\n",
              "1     -1.766723\n",
              "2     -1.539177\n",
              "3      5.169968\n",
              "4      1.380557\n",
              "        ...    \n",
              "79    11.594331\n",
              "80    -1.067081\n",
              "81   -15.439300\n",
              "82     6.644147\n",
              "83     6.057351\n",
              "Name: num_suicide, Length: 84, dtype: float64"
            ]
          },
          "execution_count": 810,
          "metadata": {},
          "output_type": "execute_result"
        }
      ],
      "source": [
        "residuals"
      ]
    },
    {
      "cell_type": "code",
      "execution_count": null,
      "metadata": {
        "id": "uVb5Ii_yiWtO",
        "outputId": "ac652308-0356-4f9f-ea42-c051a497e144"
      },
      "outputs": [
        {
          "name": "stdout",
          "output_type": "stream",
          "text": [
            "1.8789636574595088\n",
            "гипотеза о независимости случайных отклонений не отвергается\n"
          ]
        }
      ],
      "source": [
        "e_t = residuals\n",
        "sum1 = 0\n",
        "sum2 = e_t[0]**2\n",
        "for i in range (1, n - 1):\n",
        "  sum1 += (e_t[i] - e_t[i - 1])**2\n",
        "  sum2 += e_t[i]**2\n",
        "d = sum1/sum2\n",
        "print(d)\n",
        "\n",
        "n = 84\n",
        "p = 0.95\n",
        "m = 4\n",
        "d_L = 1.31\n",
        "d_U =\t1.62\n",
        "if (d <= 2):\n",
        "  if (d < d_L):\n",
        "    print(\"гипотеза о независимости случайных отклонений отвергается\")\n",
        "  elif (d > d_U):\n",
        "    print(\"гипотеза о независимости случайных отклонений не отвергается\")\n",
        "  elif (d >= d_L and d <= d_U):\n",
        "    print(\"нет достаточных оснований для принятия решения\")\n",
        "else:\n",
        "  if (4 - d < d_L):\n",
        "    print(\"гипотеза о независимости случайных отклонений отвергается\")\n",
        "  elif (4 - d > d_U):\n",
        "    print(\"гипотеза о независимости случайных отклонений не отвергается\")\n",
        "  elif (4 - d >= d_L and 4 - d <= d_U):\n",
        "    print(\"нет достаточных оснований для принятия решения\")"
      ]
    },
    {
      "cell_type": "markdown",
      "metadata": {
        "id": "G2KaUtkciWtP"
      },
      "source": [
        "Построение модели на значимых коэффициентах"
      ]
    },
    {
      "cell_type": "code",
      "execution_count": null,
      "metadata": {
        "id": "7ZvsOQZIiWtQ",
        "outputId": "ad09b2ad-0a41-4bb2-f7b0-64ea9dac548e"
      },
      "outputs": [
        {
          "name": "stdout",
          "output_type": "stream",
          "text": [
            "alco 1.68\n",
            "poverty_level 0.06\n",
            "Intercept: -63.74\n"
          ]
        }
      ],
      "source": [
        "from sklearn.linear_model import LinearRegression\n",
        "slr = LinearRegression()\n",
        "slr.fit(numeric_data, y)\n",
        "y_pred = slr.predict(numeric_data)\n",
        "num_cols = [\n",
        "        'alco',\n",
        "        'poverty_level'\n",
        "]\n",
        "for i in range (2):\n",
        "    print(num_cols[i] + ' {:.2f}'.format(slr.coef_[i]))\n",
        "\n",
        "print('Intercept: {:.2f}'.format(slr.intercept_))"
      ]
    },
    {
      "cell_type": "code",
      "execution_count": null,
      "metadata": {
        "id": "W0fqiYEViWtQ",
        "outputId": "539a3eb7-a03f-4762-aca8-88c73d86cda2"
      },
      "outputs": [
        {
          "name": "stdout",
          "output_type": "stream",
          "text": [
            "                            OLS Regression Results                            \n",
            "==============================================================================\n",
            "Dep. Variable:            num_suicide   R-squared:                       0.292\n",
            "Model:                            OLS   Adj. R-squared:                  0.274\n",
            "Method:                 Least Squares   F-statistic:                     16.67\n",
            "Date:                Sun, 26 May 2024   Prob (F-statistic):           8.64e-07\n",
            "Time:                        13:43:41   Log-Likelihood:                -288.15\n",
            "No. Observations:                  84   AIC:                             582.3\n",
            "Df Residuals:                      81   BIC:                             589.6\n",
            "Df Model:                           2                                         \n",
            "Covariance Type:            nonrobust                                         \n",
            "=================================================================================\n",
            "                    coef    std err          t      P>|t|      [0.025      0.975]\n",
            "---------------------------------------------------------------------------------\n",
            "Intercept       -33.6943      8.379     -4.021      0.000     -50.367     -17.022\n",
            "alco              1.7678      0.399      4.434      0.000       0.974       2.561\n",
            "poverty_level    14.2105      2.673      5.317      0.000       8.893      19.528\n",
            "==============================================================================\n",
            "Omnibus:                        0.111   Durbin-Watson:                   1.862\n",
            "Prob(Omnibus):                  0.946   Jarque-Bera (JB):                0.190\n",
            "Skew:                          -0.083   Prob(JB):                        0.909\n",
            "Kurtosis:                       2.836   Cond. No.                         74.3\n",
            "==============================================================================\n",
            "\n",
            "Notes:\n",
            "[1] Standard Errors assume that the covariance matrix of the errors is correctly specified.\n"
          ]
        }
      ],
      "source": [
        "model_linear_ols = smf.ols(formula='num_suicide ~ alco +  poverty_level', data=data)\n",
        "result_linear_ols = model_linear_ols.fit()\n",
        "print(result_linear_ols.summary())"
      ]
    },
    {
      "cell_type": "code",
      "execution_count": null,
      "metadata": {
        "id": "bMJfM1jpiWtR",
        "outputId": "ea89627d-b1c2-4de9-813f-6b5d6f4cec34"
      },
      "outputs": [
        {
          "name": "stdout",
          "output_type": "stream",
          "text": [
            "result_linear_ols.pvalues = \n",
            "Intercept        1.292115e-04\n",
            "alco             2.884002e-05\n",
            "poverty_level    9.118108e-07\n",
            "dtype: float64\n"
          ]
        }
      ],
      "source": [
        "print(f\"result_linear_ols.pvalues = \\n{result_linear_ols.pvalues}\")"
      ]
    },
    {
      "cell_type": "code",
      "execution_count": null,
      "metadata": {
        "id": "DJcjLTc-iWtR",
        "outputId": "e7ef86bf-ebc5-46af-b8d9-c9a4cf6c342b"
      },
      "outputs": [
        {
          "name": "stdout",
          "output_type": "stream",
          "text": [
            "                       0          1\n",
            "Intercept     -50.366587 -17.022110\n",
            "alco            0.974441   2.561062\n",
            "poverty_level   8.892995  19.528019 \n",
            "\n"
          ]
        }
      ],
      "source": [
        "print(result_linear_ols.conf_int(), '\\n')\n"
      ]
    },
    {
      "cell_type": "code",
      "execution_count": null,
      "metadata": {
        "id": "_b-tUCZGiWtS",
        "outputId": "b310ea23-1258-4b10-bb95-64c0f8b07c12"
      },
      "outputs": [
        {
          "name": "stdout",
          "output_type": "stream",
          "text": [
            "Нулевая гипотеза о нормальности распределения остатков ряда не отвергается\n"
          ]
        }
      ],
      "source": [
        "residuals = y - y_pred\n",
        "std = np.std(residuals)* np.sqrt((n - 1)/ n)\n",
        "K = 1/n * sum(((residuals - residuals.mean()) / std)**4)\n",
        "S = 1/n * sum(((residuals - residuals.mean()) / std)**3)\n",
        "zh_b_statistic = n/6 * (S**2 + ((K - 3)**2)/4)\n",
        "hi_critical = 5.9916\n",
        "if (zh_b_statistic > hi_critical):\n",
        "  print(\"Нулевая гипотеза о нормальности распределения остатков ряда отвергается на уровне значимости 0.05\")\n",
        "else: print(\"Нулевая гипотеза о нормальности распределения остатков ряда не отвергается\")\n"
      ]
    },
    {
      "cell_type": "code",
      "execution_count": null,
      "metadata": {
        "id": "RhlgJ_EjiWtS",
        "outputId": "15ff2cba-184d-4c16-9360-ac6d87df70d4"
      },
      "outputs": [
        {
          "data": {
            "text/plain": [
              "0.22358939412175294"
            ]
          },
          "execution_count": 821,
          "metadata": {},
          "output_type": "execute_result"
        }
      ],
      "source": [
        "zh_b_statistic"
      ]
    },
    {
      "cell_type": "code",
      "execution_count": null,
      "metadata": {
        "id": "lhJqkaCHiWtT",
        "outputId": "a8fa6780-68bb-40ad-bd6d-186f3be05083"
      },
      "outputs": [
        {
          "data": {
            "image/png": "[encoded data removed]",
            "text/plain": [
              "<Figure size 1200x800 with 1 Axes>"
            ]
          },
          "metadata": {},
          "output_type": "display_data"
        }
      ],
      "source": [
        "residuals = y - y_pred\n",
        "#define figure size\n",
        "fig = plt.figure(figsize=(12,8))\n",
        "# график остатков\n",
        "title_axes_2 = 'График остатков'\n",
        "\n",
        "sns.residplot(\n",
        "    x=y, y=residuals,\n",
        "    lowess=False,\n",
        "    robust=False,\n",
        "    scatter_kws={'s': 30, 'color': 'darkorange'})\n",
        "\n",
        "plt.show()"
      ]
    },
    {
      "cell_type": "code",
      "execution_count": null,
      "metadata": {
        "id": "TNdPrPttiWtT",
        "outputId": "d7355e0c-b5a9-4454-da1b-b839fee5177b"
      },
      "outputs": [
        {
          "name": "stdout",
          "output_type": "stream",
          "text": [
            "1.8789636574595088\n",
            "гипотеза о независимости случайных отклонений не отвергается\n"
          ]
        }
      ],
      "source": [
        "\n",
        "e_t = residuals\n",
        "sum1 = 0\n",
        "sum2 = e_t[0]**2\n",
        "for i in range (1, n - 1):\n",
        "  sum1 += (e_t[i] - e_t[i - 1])**2\n",
        "  sum2 += e_t[i]**2\n",
        "d = sum1/sum2\n",
        "print(d)\n",
        "\n",
        "n = 84\n",
        "p = 0.95\n",
        "m = 4\n",
        "d_L = 1.31\n",
        "d_U =\t1.62\n",
        "if (d <= 2):\n",
        "  if (d < d_L):\n",
        "    print(\"гипотеза о независимости случайных отклонений отвергается\")\n",
        "  elif (d > d_U):\n",
        "    print(\"гипотеза о независимости случайных отклонений не отвергается\")\n",
        "  elif (d >= d_L and d <= d_U):\n",
        "    print(\"нет достаточных оснований для принятия решения\")\n",
        "else:\n",
        "  if (4 - d < d_L):\n",
        "    print(\"гипотеза о независимости случайных отклонений отвергается\")\n",
        "  elif (4 - d > d_U):\n",
        "    print(\"гипотеза о независимости случайных отклонений не отвергается\")\n",
        "  elif (4 - d >= d_L and 4 - d <= d_U):\n",
        "    print(\"нет достаточных оснований для принятия решения\")"
      ]
    }
  ],
  "metadata": {
    "colab": {
      "provenance": [],
      "include_colab_link": true
    },
    "kernelspec": {
      "display_name": "Python 3",
      "name": "python3"
    },
    "language_info": {
      "codemirror_mode": {
        "name": "ipython",
        "version": 3
      },
      "file_extension": ".py",
      "mimetype": "text/x-python",
      "name": "python",
      "nbconvert_exporter": "python",
      "pygments_lexer": "ipython3",
      "version": "3.11.8"
    }
  },
  "nbformat": 4,
  "nbformat_minor": 0
}